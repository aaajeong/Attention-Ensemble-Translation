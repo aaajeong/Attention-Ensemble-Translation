{
  "nbformat": 4,
  "nbformat_minor": 0,
  "metadata": {
    "accelerator": "GPU",
    "colab": {
      "name": "re-nmt_Ensemble_HardVoting",
      "provenance": [],
      "collapsed_sections": []
    },
    "kernelspec": {
      "display_name": "Python 3",
      "language": "python",
      "name": "python3"
    },
    "language_info": {
      "codemirror_mode": {
        "name": "ipython",
        "version": 3
      },
      "file_extension": ".py",
      "mimetype": "text/x-python",
      "name": "python",
      "nbconvert_exporter": "python",
      "pygments_lexer": "ipython3",
      "version": "3.6.12"
    }
  },
  "cells": [
    {
      "cell_type": "markdown",
      "metadata": {
        "id": "5EoRVv9GoMn0"
      },
      "source": [
        "# **Attention Ensemble  - Hard Voting**\n",
        "---"
      ]
    },
    {
      "cell_type": "markdown",
      "metadata": {
        "id": "AI5Vl6b8ohHm"
      },
      "source": [
        "### **구글 드라이브 Mount**"
      ]
    },
    {
      "cell_type": "code",
      "metadata": {
        "id": "ktx3xvhwc2rL"
      },
      "source": [
        "# from google.colab import drive\n",
        "# drive.mount('/content/drive')"
      ],
      "execution_count": 3,
      "outputs": []
    },
    {
      "cell_type": "markdown",
      "metadata": {
        "id": "2V42Oa1cP8eh"
      },
      "source": [
        "### **Import Libraries**"
      ]
    },
    {
      "cell_type": "code",
      "metadata": {
        "id": "6C5I92usDlWa"
      },
      "source": [
        "import tensorflow as tf\n",
        "from keras.models import Model\n",
        "import matplotlib.pyplot as plt\n",
        "import matplotlib.ticker as ticker\n",
        "from sklearn.model_selection import train_test_split \n",
        "\n",
        "import unicodedata\n",
        "import re\n",
        "import numpy as np\n",
        "import os\n",
        "import io\n",
        "import time\n",
        "import random"
      ],
      "execution_count": 4,
      "outputs": []
    },
    {
      "cell_type": "markdown",
      "metadata": {
        "id": "9TwhXqshQD_d"
      },
      "source": [
        "### **데이터 로드**"
      ]
    },
    {
      "cell_type": "code",
      "metadata": {
        "id": "2LGie5tSDrLl"
      },
      "source": [
        "path_to_file = '/content/drive/MyDrive/Colab Notebooks/spa-eng/spa.txt'\n",
        "path_to_file_esb = '/content/drive/MyDrive/Colab Notebooks/spa-eng/spa_for_esb.txt'"
      ],
      "execution_count": 5,
      "outputs": []
    },
    {
      "cell_type": "markdown",
      "metadata": {
        "id": "sXLKdsBsE73t"
      },
      "source": [
        "### **데이터 랜덤 셔플**\n",
        "\n",
        "\n",
        "*   [영어, 스페인어] 쌍 shuffle file 새로 저장\n",
        "*   번역 테스트 시 주석 처리\n",
        "\n"
      ]
    },
    {
      "cell_type": "code",
      "metadata": {
        "id": "kcT0PKIZE7Zx"
      },
      "source": [
        "# lines = io.open(path_to_file, encoding='UTF-8').read().strip().split('\\n')\n",
        "# random.shuffle(lines)\n",
        "# f = open(path_to_file_esb, 'w')\n",
        "# for i in lines:\n",
        "#     data = i + '\\n'\n",
        "#     f.write(data)\n",
        "# f.close()"
      ],
      "execution_count": 6,
      "outputs": []
    },
    {
      "cell_type": "markdown",
      "metadata": {
        "id": "CpevBqz3QLgl"
      },
      "source": [
        "### **데이터(문장) 전처리**"
      ]
    },
    {
      "cell_type": "code",
      "metadata": {
        "id": "NvfW9HTkENRY"
      },
      "source": [
        "# 유니코드 파일을 아스키 코드 파일로 변환합니다.\n",
        "def unicode_to_ascii(s):\n",
        "  return ''.join(c for c in unicodedata.normalize('NFD', s)\n",
        "      if unicodedata.category(c) != 'Mn')\n",
        "\n",
        "\n",
        "def preprocess_sentence(w):\n",
        "  w = unicode_to_ascii(w.lower().strip())\n",
        "\n",
        "  # 단어와 단어 뒤에 오는 구두점(.)사이에 공백을 생성합니다.\n",
        "  # 예시: \"he is a boy.\" => \"he is a boy .\"\n",
        "  # 참고:- https://stackoverflow.com/questions/3645931/python-padding-punctuation-with-white-spaces-keeping-punctuation\n",
        "  w = re.sub(r\"([?.!,¿])\", r\" \\1 \", w)\n",
        "  w = re.sub(r'[\" \"]+', \" \", w)\n",
        "\n",
        "  # (a-z, A-Z, \".\", \"?\", \"!\", \",\")을 제외한 모든 것을 공백으로 대체합니다.\n",
        "  w = re.sub(r\"[^a-zA-Z?.!,¿]+\", \" \", w)\n",
        "\n",
        "  w = w.strip()\n",
        "\n",
        "  # 모델이 예측을 시작하거나 중단할 때를 알게 하기 위해서\n",
        "  # 문장에 start와 end 토큰을 추가합니다.\n",
        "  w = '<start> ' + w + ' <end>'\n",
        "  return w"
      ],
      "execution_count": 7,
      "outputs": []
    },
    {
      "cell_type": "markdown",
      "metadata": {
        "id": "ZCvca5_mQZvK"
      },
      "source": [
        "### **Dataset 생성**\n",
        "1. 문장에 있는 억양을 제거합니다.\n",
        "2. 불필요한 문자를 제거하여 문장을 정리합니다.\n",
        "3. 다음과 같은 형식으로 문장의 쌍을 반환합니다: [영어, 스페인어]"
      ]
    },
    {
      "cell_type": "code",
      "metadata": {
        "id": "3VXgr4_2EUgt"
      },
      "source": [
        "def create_dataset(path, num_examples):\n",
        "  lines = io.open(path, encoding='UTF-8').read().strip().split('\\n')\n",
        "\n",
        "  word_pairs = [[preprocess_sentence(w) for w in l.split('\\t')]  for l in lines[:num_examples]]\n",
        "\n",
        "  return zip(*word_pairs)"
      ],
      "execution_count": 8,
      "outputs": []
    },
    {
      "cell_type": "markdown",
      "metadata": {
        "id": "ImjigtL7QrJD"
      },
      "source": [
        "### **Language 가 들어오면 공백 단위로 토큰화**\n",
        "- fit_on_texts(): 문자 데이터를 입력받아서 리스트의 형태로 변환\n",
        "- texts_to_sequences: 텍스트 안의 단어들을 숫자 시퀀스로 출력\n",
        "- pad_sequcences(tensor, padding='post') : 서로 다른 개수의 단어로 이루어진 문장을 같은 길이로 만들어주기 위해 패딩을 사용\n",
        "  - padding = 'post' : [[ 0  0  0  5  3  2  4], [ 0  0  0  5  3  2  7],...,]\n",
        "  - padding = 'pre' : 뒤 부터 패딩이 채워짐\n",
        "  - 가장 긴 sequence 의 길이 만큼\n",
        "  "
      ]
    },
    {
      "cell_type": "code",
      "metadata": {
        "id": "u9VUFvjLEdER"
      },
      "source": [
        "def tokenize(lang):\n",
        "  lang_tokenizer = tf.keras.preprocessing.text.Tokenizer(\n",
        "      filters='')\n",
        "  lang_tokenizer.fit_on_texts(lang)\n",
        "\n",
        "  tensor = lang_tokenizer.texts_to_sequences(lang)\n",
        "\n",
        "  tensor = tf.keras.preprocessing.sequence.pad_sequences(tensor,\n",
        "                                                         padding='post')\n",
        "\n",
        "  return tensor, lang_tokenizer"
      ],
      "execution_count": 9,
      "outputs": []
    },
    {
      "cell_type": "markdown",
      "metadata": {
        "id": "aXvBdPFoU1i-"
      },
      "source": [
        "### **전처리된 타겟 문장과 입력 문장 쌍을 생성**\n",
        "- input_tensor : input 문장의 패딩 처리된 숫자 시퀀스\n",
        "- inp_lang_tokenizer : input 문장을 공백 단위로 토큰화, 문자 -> 리스트 변환\n",
        "- target_tensor, targ_lang_tokenizer : 위와 비슷\n"
      ]
    },
    {
      "cell_type": "code",
      "metadata": {
        "id": "Rc4Rbx8JEjQZ"
      },
      "source": [
        "def load_dataset(path, num_examples=None):\n",
        "  \n",
        "  targ_lang, inp_lang = create_dataset(path, num_examples)\n",
        "\n",
        "  input_tensor, inp_lang_tokenizer = tokenize(inp_lang)\n",
        "  target_tensor, targ_lang_tokenizer = tokenize(targ_lang)\n",
        "\n",
        "  return input_tensor, target_tensor, inp_lang_tokenizer, targ_lang_tokenizer"
      ],
      "execution_count": 10,
      "outputs": []
    },
    {
      "cell_type": "markdown",
      "metadata": {
        "id": "NykrAhCiX_nn"
      },
      "source": [
        "### **언어 데이터셋 크기 제한**\n",
        "- 언어 데이터셋을 아래의 크기로 제한하여 훈련과 검증을 수행\n",
        "- inp_lang, targ_lang : 인풋,타겟 문장의 문자 -> 리스트 변환 결과\n",
        "- max_length_targ, max_length_inp : 인풋, 타겟 문장의 '패딩된' 숫자 시퀀스 길이 -> 타겟 텐서와 입력 텐서의 최대 길이"
      ]
    },
    {
      "cell_type": "code",
      "metadata": {
        "id": "ioibz-1bEkx-"
      },
      "source": [
        "num_examples = 30000\n",
        "input_tensor, target_tensor, inp_lang, targ_lang = load_dataset(path_to_file_esb, num_examples)\n",
        "# input_tensor2, target_tensor2, inp_lang2, targ_lang2 = load_dataset(path_to_file, 1, num_examples)\n",
        "# input_tensor3, target_tensor3, inp_lang3, targ_lang3 = load_dataset(path_to_file, 2, num_examples)\n",
        "\n",
        "\n",
        "max_length_targ, max_length_inp = target_tensor.shape[1], input_tensor.shape[1]\n",
        "# max_length_targ2, max_length_inp2 = target_tensor2.shape[1], input_tensor2.shape[1]\n",
        "# max_length_targ3, max_length_inp3 = target_tensor3.shape[1], input_tensor3.shape[1]"
      ],
      "execution_count": 11,
      "outputs": []
    },
    {
      "cell_type": "markdown",
      "metadata": {
        "id": "mQRUdPQDMu8m"
      },
      "source": [
        "### **데이터셋 (테스트 & 검증) 분리**"
      ]
    },
    {
      "cell_type": "code",
      "metadata": {
        "colab": {
          "base_uri": "https://localhost:8080/"
        },
        "id": "V7I7aQZrMuKM",
        "outputId": "8d96eb89-d059-457f-c87f-c7a9199d7d91"
      },
      "source": [
        "# 훈련 집합과 검증 집합을 80대 20으로 분리합니다.\n",
        "input_tensor_train, input_tensor_val, target_tensor_train, target_tensor_val = train_test_split(input_tensor, target_tensor, test_size=0.2)\n",
        "\n",
        "# 훈련 집합과 검증 집합의 데이터 크기를 출력합니다.\n",
        "print(len(input_tensor_train), len(target_tensor_train), len(input_tensor_val), len(target_tensor_val))"
      ],
      "execution_count": 12,
      "outputs": [
        {
          "output_type": "stream",
          "text": [
            "24000 24000 6000 6000\n"
          ],
          "name": "stdout"
        }
      ]
    },
    {
      "cell_type": "markdown",
      "metadata": {
        "id": "-XAy3EiWZz3b"
      },
      "source": [
        "### 인덱스 -> 해당 word 로\n",
        "\n",
        "```\n",
        "Input Language; index to word mapping\n",
        "1 ----> <start>\n",
        "93 ----> tomas\n",
        "27 ----> le\n",
        "1063 ----> escribio\n",
        "7 ----> a\n",
        "120 ----> maria\n",
        "3 ----> .\n",
        "2 ----> <end>\n",
        "```\n",
        "\n",
        "\n",
        "```\n",
        "Target Language; index to word mapping\n",
        "1 ----> <start>\n",
        "8 ----> tom\n",
        "695 ----> wrote\n",
        "6 ----> to\n",
        "31 ----> mary\n",
        "3 ----> .\n",
        "2 ----> <end>\n",
        "```\n",
        "\n"
      ]
    },
    {
      "cell_type": "code",
      "metadata": {
        "id": "XwDUP11tErzK"
      },
      "source": [
        "def convert(lang, tensor):\n",
        "  for t in tensor:\n",
        "    if t!=0:\n",
        "      print (\"%d ----> %s\" % (t, lang.index_word[t]))"
      ],
      "execution_count": 13,
      "outputs": []
    },
    {
      "cell_type": "markdown",
      "metadata": {
        "id": "yrwIipPCbcBB"
      },
      "source": [
        "### **Buffer, Batch, epoch, embedding dimension, units 설정**\n",
        "- Tokenizer 의 word_index 속성 : 속성은 단어와 숫자의 키-값 쌍을 포함하는 딕셔너리를 반환\n",
        "- 따라서 vocab_inp_size, vocab_inp_size : 인풋, 타겟의 단어-숫자 딕셔너리 최대 길이 + 1 (?)\n",
        "- dataset.batch(BATCH_SIZE, drop_remainder = True) : 배치사이즈 만큼 분할 후 남은 데이터를 drop 할 것인지 여부\n",
        "- shuffle : 데이터셋 적절히 섞어준다."
      ]
    },
    {
      "cell_type": "code",
      "metadata": {
        "id": "hU7tb2GYEvZX"
      },
      "source": [
        "BUFFER_SIZE = len(input_tensor_train)\n",
        "BATCH_SIZE = 64\n",
        "steps_per_epoch = len(input_tensor_train)//BATCH_SIZE\n",
        "embedding_dim = 256\n",
        "units = 1024\n",
        "vocab_inp_size = len(inp_lang.word_index)+1\n",
        "vocab_tar_size = len(targ_lang.word_index)+1\n",
        "\n",
        "# 훈련 집합에서만 shuffle, batch\n",
        "dataset = tf.data.Dataset.from_tensor_slices((input_tensor_train, target_tensor_train)).shuffle(BUFFER_SIZE)\n",
        "dataset = dataset.batch(BATCH_SIZE, drop_remainder=True)"
      ],
      "execution_count": 14,
      "outputs": []
    },
    {
      "cell_type": "code",
      "metadata": {
        "colab": {
          "base_uri": "https://localhost:8080/"
        },
        "id": "-MitMbnt45EM",
        "outputId": "a3250a5b-aa85-48bc-fe94-dc538d30786d"
      },
      "source": [
        "example_input_batch, example_target_batch = next(iter(dataset))\n",
        "example_input_batch.shape, example_target_batch.shape"
      ],
      "execution_count": 15,
      "outputs": [
        {
          "output_type": "execute_result",
          "data": {
            "text/plain": [
              "(TensorShape([64, 53]), TensorShape([64, 51]))"
            ]
          },
          "metadata": {
            "tags": []
          },
          "execution_count": 15
        }
      ]
    },
    {
      "cell_type": "markdown",
      "metadata": {
        "id": "mXVK8Dv4cOi7"
      },
      "source": [
        "### **Encoder**\n",
        "\n",
        "\n",
        "1.   초기화 : vocab_size(단어의 크기), embedding_dim(임베딩 차원 수), enc_units(인코더의 히든 사이즈), batch_sz(배치 사이즈)\n",
        "2.  call : gru 에 들어가 output, state 출력\n",
        "3.  initialize_hidden_state : 맨 처음 gru에 들어가기 위한 더미 입력 값\n",
        "\n",
        "\n"
      ]
    },
    {
      "cell_type": "code",
      "metadata": {
        "id": "AvYcCHoFE7UY"
      },
      "source": [
        "class Encoder(tf.keras.Model):\n",
        "  def __init__(self, vocab_size, embedding_dim, enc_units, batch_sz):\n",
        "    super(Encoder, self).__init__()\n",
        "    self.batch_sz = batch_sz\n",
        "    self.enc_units = enc_units\n",
        "    self.embedding = tf.keras.layers.Embedding(vocab_size, embedding_dim)\n",
        "    self.gru = tf.keras.layers.GRU(self.enc_units,\n",
        "                                   return_sequences=True,\n",
        "                                   return_state=True,\n",
        "                                   recurrent_initializer='glorot_uniform')\n",
        "\n",
        "  def call(self, x, hidden):\n",
        "    x = self.embedding(x)\n",
        "    output, state = self.gru(x, initial_state = hidden)\n",
        "    return output, state\n",
        "\n",
        "  def initialize_hidden_state(self):\n",
        "    return tf.zeros((self.batch_sz, self.enc_units))"
      ],
      "execution_count": 16,
      "outputs": []
    },
    {
      "cell_type": "markdown",
      "metadata": {
        "id": "iBEgB8_Lf1Wx"
      },
      "source": [
        "### **Encoder 객체 생성**"
      ]
    },
    {
      "cell_type": "code",
      "metadata": {
        "id": "LsoTBEKRFgkQ"
      },
      "source": [
        "# encoder = Encoder(vocab_inp_size, embedding_dim, units, BATCH_SIZE)"
      ],
      "execution_count": 17,
      "outputs": []
    },
    {
      "cell_type": "markdown",
      "metadata": {
        "id": "YXbulBGnesz7"
      },
      "source": [
        "### **Attention**\n"
      ]
    },
    {
      "cell_type": "code",
      "metadata": {
        "id": "2T7avh_BFVZN"
      },
      "source": [
        "class BahdanauAttention(tf.keras.layers.Layer):\n",
        "  def __init__(self, units):\n",
        "    super(BahdanauAttention, self).__init__()\n",
        "    self.W1 = tf.keras.layers.Dense(units)\n",
        "    self.W2 = tf.keras.layers.Dense(units)\n",
        "    self.V = tf.keras.layers.Dense(1)\n",
        "\n",
        "  def call(self, query, values):\n",
        "    # 쿼리 은닉 상태(query hidden state)는 (batch_size, hidden size)쌍으로 이루어져 있습니다.\n",
        "    # query_with_time_axis은 (batch_size, 1, hidden size)쌍으로 이루어져 있습니다.\n",
        "    # values는 (batch_size, max_len, hidden size)쌍으로 이루어져 있습니다.\n",
        "    # 스코어(score)계산을 위해 덧셈을 수행하고자 시간 축을 확장하여 아래의 과정을 수행합니다.\n",
        "    query_with_time_axis = tf.expand_dims(query, 1)\n",
        "\n",
        "    # score는 (batch_size, max_length, 1)쌍으로 이루어져 있습니다.\n",
        "    # score를 self.V에 적용하기 때문에 마지막 축에 1을 얻습니다.\n",
        "    # self.V에 적용하기 전에 텐서는 (batch_size, max_length, units)쌍으로 이루어져 있습니다.\n",
        "    score = self.V(tf.nn.tanh(\n",
        "        self.W1(query_with_time_axis) + self.W2(values)))\n",
        "\n",
        "    # attention_weights는 (batch_size, max_length, 1)쌍으로 이루어져 있습니다. \n",
        "    attention_weights = tf.nn.softmax(score, axis=1)\n",
        "\n",
        "    # 덧셈이후 컨텍스트 벡터(context_vector)는 (batch_size, hidden_size)쌍으로 이루어져 있습니다.\n",
        "    context_vector = attention_weights * values\n",
        "    context_vector = tf.reduce_sum(context_vector, axis=1)\n",
        "\n",
        "    return context_vector, attention_weights"
      ],
      "execution_count": 18,
      "outputs": []
    },
    {
      "cell_type": "markdown",
      "metadata": {
        "id": "HOyJPT-ze23p"
      },
      "source": [
        "### **Decoder**\n",
        "\n",
        "\n",
        "1.   초기화 : vocab_size(단어의 크기), embedding_dim(임베딩 차원 수), enc_units(인코더의 히든 사이즈), batch_sz(배치 사이즈)\n",
        "2.   encoder 와의 차이점 : 마지막 fully_connected_layer(tf.keras.layers.Dense) 추가\n",
        "\n"
      ]
    },
    {
      "cell_type": "code",
      "metadata": {
        "id": "weUzeqB1FaVk"
      },
      "source": [
        "class Decoder(tf.keras.Model):\n",
        "  def __init__(self, vocab_size, embedding_dim, dec_units, batch_sz):\n",
        "    super(Decoder, self).__init__()\n",
        "    self.batch_sz = batch_sz\n",
        "    self.dec_units = dec_units\n",
        "    self.embedding = tf.keras.layers.Embedding(vocab_size, embedding_dim)\n",
        "    self.gru = tf.keras.layers.GRU(self.dec_units,\n",
        "                                   return_sequences=True,\n",
        "                                   return_state=True,\n",
        "                                   recurrent_initializer='glorot_uniform')\n",
        "    self.fc = tf.keras.layers.Dense(vocab_size)\n",
        "\n",
        "    # 어텐션을 사용합니다.\n",
        "    self.attention = BahdanauAttention(self.dec_units)\n",
        "\n",
        "  def call(self, x, hidden, enc_output):\n",
        "    # enc_output는 (batch_size, max_length, hidden_size)쌍으로 이루어져 있습니다.\n",
        "    context_vector, attention_weights = self.attention(hidden, enc_output)\n",
        "\n",
        "    # 임베딩층을 통과한 후 x는 (batch_size, 1, embedding_dim)쌍으로 이루어져 있습니다.\n",
        "    x = self.embedding(x)\n",
        "\n",
        "    # 컨텍스트 벡터와 임베딩 결과를 결합한 이후 x의 형태는 (batch_size, 1, embedding_dim + hidden_size)쌍으로 이루어져 있습니다.\n",
        "    x = tf.concat([tf.expand_dims(context_vector, 1), x], axis=-1)\n",
        "\n",
        "    # 위에서 결합된 벡터를 GRU에 전달합니다.\n",
        "    output, state = self.gru(x)\n",
        "\n",
        "    # output은 (batch_size * 1, hidden_size)쌍으로 이루어져 있습니다.\n",
        "    output = tf.reshape(output, (-1, output.shape[2]))\n",
        "\n",
        "    # output은 (batch_size, vocab)쌍으로 이루어져 있습니다.\n",
        "    x = self.fc(output)\n",
        "\n",
        "    # return x, state, attention_weights\n",
        "    return x, state"
      ],
      "execution_count": 19,
      "outputs": []
    },
    {
      "cell_type": "markdown",
      "metadata": {
        "id": "dG7bJQ8sf61-"
      },
      "source": [
        "### **Decoder 객체 생성**"
      ]
    },
    {
      "cell_type": "code",
      "metadata": {
        "id": "NoeGR2CsFk8E"
      },
      "source": [
        "# decoder = Decoder(vocab_tar_size, embedding_dim, units, BATCH_SIZE)"
      ],
      "execution_count": 20,
      "outputs": []
    },
    {
      "cell_type": "markdown",
      "metadata": {
        "id": "wmQNy2L3Qn-M"
      },
      "source": [
        "### **NMT Model 생성**"
      ]
    },
    {
      "cell_type": "code",
      "metadata": {
        "id": "cWwIOiaEQnr9"
      },
      "source": [
        "class NMT_Model(tf.keras.Model):\n",
        "  def __init__(self):\n",
        "    super(NMT_Model, self).__init__()\n",
        "    self.encoder = Encoder(vocab_inp_size, embedding_dim, units, BATCH_SIZE)\n",
        "    self.decoder = Decoder(vocab_tar_size, embedding_dim, units, BATCH_SIZE)"
      ],
      "execution_count": 21,
      "outputs": []
    },
    {
      "cell_type": "markdown",
      "metadata": {
        "id": "yoywC60GQDIR"
      },
      "source": [
        "### **Ensemble Model 생성**"
      ]
    },
    {
      "cell_type": "code",
      "metadata": {
        "id": "CkYKjqyoQCq5"
      },
      "source": [
        "models = []\n",
        "num_models = 3\n",
        "for m in range(num_models):\n",
        "  model = NMT_Model()\n",
        "  models.append(model)\n",
        "\n",
        "# 각 모델 호출하려면 \n",
        "# for model in models:\n",
        "#   print(model)\n",
        "# for m in range(num_models):\n",
        "#     models.append(NMT_Model())"
      ],
      "execution_count": 29,
      "outputs": []
    },
    {
      "cell_type": "code",
      "metadata": {
        "id": "PjW32k9o4HnQ"
      },
      "source": [
        "# for model in models:\n",
        "#   sample_hidden = model.encoder.initialize_hidden_state()\n",
        "#   sample_output, sample_hidden = model.encoder(example_input_batch, sample_hidden)\n",
        "#   print ('Encoder output shape: (batch size, sequence length, units) {}'.format(sample_output.shape))\n",
        "#   print ('Encoder Hidden state shape: (batch size, units) {}'.format(sample_hidden.shape))"
      ],
      "execution_count": 30,
      "outputs": []
    },
    {
      "cell_type": "code",
      "metadata": {
        "id": "w0hr-h536Azk"
      },
      "source": [
        "# for model in models:\n",
        "#   sample_decoder_output, _ = model.decoder(tf.random.uniform((BATCH_SIZE, 1)),\n",
        "#                                         sample_hidden, sample_output)\n",
        "#   print ('Decoder output shape: (batch_size, vocab size) {}'.format(sample_decoder_output.shape))"
      ],
      "execution_count": 31,
      "outputs": []
    },
    {
      "cell_type": "markdown",
      "metadata": {
        "id": "GrfLbnT6gAXp"
      },
      "source": [
        "### **Loss Function & Optimizer**"
      ]
    },
    {
      "cell_type": "code",
      "metadata": {
        "id": "QFs5xbUXFmPH"
      },
      "source": [
        "optimizer = tf.keras.optimizers.Adam()\n",
        "loss_object = tf.keras.losses.SparseCategoricalCrossentropy(\n",
        "    from_logits=True, reduction='none')\n",
        "\n",
        "def loss_function(real, pred):\n",
        "  mask = tf.math.logical_not(tf.math.equal(real, 0))\n",
        "  loss_ = loss_object(real, pred)\n",
        "\n",
        "  mask = tf.cast(mask, dtype=loss_.dtype)\n",
        "  loss_ *= mask\n",
        "\n",
        "  return tf.reduce_mean(loss_)"
      ],
      "execution_count": 32,
      "outputs": []
    },
    {
      "cell_type": "markdown",
      "metadata": {
        "id": "43_Spvj-gOsG"
      },
      "source": [
        "### **Chekcpoint**\n",
        "- 여기서 학습한 매개변수를 저장, optimizer/encoder/decoder"
      ]
    },
    {
      "cell_type": "code",
      "metadata": {
        "id": "Z7GWRTtRFoGz"
      },
      "source": [
        "checkpoint_dir = '/content/drive/MyDrive/Colab Notebooks/training_checkpoints_esb'\n",
        "checkpoint_prefix = os.path.join(checkpoint_dir, \"ckpt\")\n",
        "checkpoints = []\n",
        "\n",
        "for m in range(num_models):\n",
        "  checkpoint = tf.train.Checkpoint(optimizer=optimizer,\n",
        "                                 encoder=models[m].encoder,\n",
        "                                 decoder=models[m].decoder)\n",
        "  checkpoints.append(checkpoint)\n"
      ],
      "execution_count": 33,
      "outputs": []
    },
    {
      "cell_type": "markdown",
      "metadata": {
        "id": "vPqtJ9YsWqG6"
      },
      "source": [
        "### **Train_step**"
      ]
    },
    {
      "cell_type": "code",
      "metadata": {
        "id": "W4M_cQT0kp5S"
      },
      "source": [
        "@tf.function\n",
        "def train_step(inp, targ, enc_hidden):\n",
        "  loss = 0\n",
        "\n",
        "  with tf.GradientTape() as tape:\n",
        "    enc_output, enc_hidden = train_encoder(inp, enc_hidden)\n",
        "\n",
        "    dec_hidden = enc_hidden\n",
        "\n",
        "    dec_input = tf.expand_dims([targ_lang.word_index['<start>']] * BATCH_SIZE, 1)\n",
        "\n",
        "    # 교사 강요(teacher forcing) - 다음 입력으로 타겟을 피딩(feeding)합니다.\n",
        "    for t in range(1, targ.shape[1]):\n",
        "      # enc_output를 디코더에 전달합니다.\n",
        "      predictions, dec_hidden = train_decoder(dec_input, dec_hidden, enc_output)\n",
        "      # print('predictions', predictions.shape)\n",
        "\n",
        "      loss += loss_function(targ[:, t], predictions)\n",
        "\n",
        "      # 교사 강요(teacher forcing)를 사용합니다.\n",
        "      dec_input = tf.expand_dims(targ[:, t], 1)\n",
        "\n",
        "  batch_loss = (loss / int(targ.shape[1]))\n",
        "  variables = train_encoder.trainable_variables + train_decoder.trainable_variables\n",
        "  gradients = tape.gradient(loss, variables)\n",
        "  optimizer.apply_gradients(zip(gradients, variables))\n",
        "  return batch_loss"
      ],
      "execution_count": 34,
      "outputs": []
    },
    {
      "cell_type": "markdown",
      "metadata": {
        "id": "unWNByYCIae0"
      },
      "source": [
        "### **학습**"
      ]
    },
    {
      "cell_type": "code",
      "metadata": {
        "colab": {
          "base_uri": "https://localhost:8080/"
        },
        "id": "qhjmV94vIZzU",
        "outputId": "3ca24238-bacc-4bb6-b942-6e075ccb35d1"
      },
      "source": [
        "EPOCHS = 5\n",
        "model_loss = []\n",
        "\n",
        "for epoch in range(EPOCHS):\n",
        "  start = time.time()\n",
        "\n",
        "  for model in models:\n",
        "    train_encoder = model.encoder\n",
        "    train_decoder = model.decoder\n",
        "    total_loss = 0\n",
        "    enc_hidden = train_encoder.initialize_hidden_state()\n",
        "\n",
        "    for (batch, (inp, targ)) in enumerate(dataset.take(steps_per_epoch)):\n",
        "\n",
        "      batch_loss = train_step(inp, targ, enc_hidden)\n",
        "\n",
        "      total_loss += batch_loss\n",
        "\n",
        "      if batch % 100 == 0:\n",
        "        print('Epoch {} Batch {} Loss {:.4f}'.format(epoch + 1,\n",
        "                                                    batch,\n",
        "                                                    batch_loss.numpy()))\n",
        "      \n",
        "    model_loss.append(total_loss)                \n",
        "  \n",
        "  # 에포크가 2번 실행될때마다 모델 저장 (모델 별 체크포인트)\n",
        "  if (epoch + 1) % 2 == 0:\n",
        "    for idx, checkpoint in enumerate(checkpoints):\n",
        "      checkpoint.save(file_prefix=checkpoint_prefix+'-{}'.format(idx))\n",
        "\n",
        "  print('Model 1 : Epoch {} Loss {:.4f}'.format(epoch + 1,\n",
        "                                      model_loss[0] / steps_per_epoch))\n",
        "  print('Model 2 : Epoch {} Loss {:.4f}'.format(epoch + 1,\n",
        "                                      model_loss[1] / steps_per_epoch))\n",
        "  print('Model 3 : Epoch {} Loss {:.4f}'.format(epoch + 1,\n",
        "                                      model_loss[2] / steps_per_epoch))\n",
        "  print('Time taken for 1 epoch {} sec\\n'.format(time.time() - start))"
      ],
      "execution_count": 35,
      "outputs": [
        {
          "output_type": "stream",
          "text": [
            "Epoch 1 Batch 0 Loss 1.5455\n",
            "Epoch 1 Batch 100 Loss 0.8120\n",
            "Epoch 1 Batch 200 Loss 0.7110\n",
            "Epoch 1 Batch 300 Loss 0.6723\n",
            "Epoch 1 Batch 0 Loss 0.6520\n",
            "Epoch 1 Batch 100 Loss 0.6598\n",
            "Epoch 1 Batch 200 Loss 0.6131\n",
            "Epoch 1 Batch 300 Loss 0.5280\n",
            "Epoch 1 Batch 0 Loss 0.5277\n",
            "Epoch 1 Batch 100 Loss 0.5972\n",
            "Epoch 1 Batch 200 Loss 0.5288\n",
            "Epoch 1 Batch 300 Loss 0.4816\n",
            "Model 1 : Epoch 1 Loss 0.7944\n",
            "Model 2 : Epoch 1 Loss 0.6030\n",
            "Model 3 : Epoch 1 Loss 0.4955\n",
            "Time taken for 1 epoch 674.5879273414612 sec\n",
            "\n",
            "Epoch 2 Batch 0 Loss 0.4584\n",
            "Epoch 2 Batch 100 Loss 0.3343\n",
            "Epoch 2 Batch 200 Loss 0.4458\n",
            "Epoch 2 Batch 300 Loss 0.3391\n",
            "Epoch 2 Batch 0 Loss 0.2847\n",
            "Epoch 2 Batch 100 Loss 0.3334\n",
            "Epoch 2 Batch 200 Loss 0.3579\n",
            "Epoch 2 Batch 300 Loss 0.2786\n",
            "Epoch 2 Batch 0 Loss 0.2570\n",
            "Epoch 2 Batch 100 Loss 0.2055\n",
            "Epoch 2 Batch 200 Loss 0.2404\n",
            "Epoch 2 Batch 300 Loss 0.2261\n",
            "Model 1 : Epoch 2 Loss 0.7944\n",
            "Model 2 : Epoch 2 Loss 0.6030\n",
            "Model 3 : Epoch 2 Loss 0.4955\n",
            "Time taken for 1 epoch 636.8253202438354 sec\n",
            "\n",
            "Epoch 3 Batch 0 Loss 0.2108\n",
            "Epoch 3 Batch 100 Loss 0.2024\n",
            "Epoch 3 Batch 200 Loss 0.1741\n",
            "Epoch 3 Batch 300 Loss 0.1924\n",
            "Epoch 3 Batch 0 Loss 0.0765\n",
            "Epoch 3 Batch 100 Loss 0.1453\n",
            "Epoch 3 Batch 200 Loss 0.1175\n",
            "Epoch 3 Batch 300 Loss 0.1529\n",
            "Epoch 3 Batch 0 Loss 0.1317\n",
            "Epoch 3 Batch 100 Loss 0.1117\n",
            "Epoch 3 Batch 200 Loss 0.0946\n",
            "Epoch 3 Batch 300 Loss 0.1040\n",
            "Model 1 : Epoch 3 Loss 0.7944\n",
            "Model 2 : Epoch 3 Loss 0.6030\n",
            "Model 3 : Epoch 3 Loss 0.4955\n",
            "Time taken for 1 epoch 634.6524975299835 sec\n",
            "\n",
            "Epoch 4 Batch 0 Loss 0.0780\n",
            "Epoch 4 Batch 100 Loss 0.0730\n",
            "Epoch 4 Batch 200 Loss 0.0963\n",
            "Epoch 4 Batch 300 Loss 0.1375\n",
            "Epoch 4 Batch 0 Loss 0.0775\n",
            "Epoch 4 Batch 100 Loss 0.0868\n",
            "Epoch 4 Batch 200 Loss 0.0738\n",
            "Epoch 4 Batch 300 Loss 0.0957\n",
            "Epoch 4 Batch 0 Loss 0.0519\n",
            "Epoch 4 Batch 100 Loss 0.0485\n",
            "Epoch 4 Batch 200 Loss 0.0462\n",
            "Epoch 4 Batch 300 Loss 0.0558\n",
            "Model 1 : Epoch 4 Loss 0.7944\n",
            "Model 2 : Epoch 4 Loss 0.6030\n",
            "Model 3 : Epoch 4 Loss 0.4955\n",
            "Time taken for 1 epoch 634.790858745575 sec\n",
            "\n",
            "Epoch 5 Batch 0 Loss 0.0428\n",
            "Epoch 5 Batch 100 Loss 0.0370\n",
            "Epoch 5 Batch 200 Loss 0.0327\n",
            "Epoch 5 Batch 300 Loss 0.0330\n",
            "Epoch 5 Batch 0 Loss 0.0272\n",
            "Epoch 5 Batch 100 Loss 0.0342\n",
            "Epoch 5 Batch 200 Loss 0.0307\n",
            "Epoch 5 Batch 300 Loss 0.0446\n",
            "Epoch 5 Batch 0 Loss 0.0252\n",
            "Epoch 5 Batch 100 Loss 0.0367\n",
            "Epoch 5 Batch 200 Loss 0.0399\n",
            "Epoch 5 Batch 300 Loss 0.0318\n",
            "Model 1 : Epoch 5 Loss 0.7944\n",
            "Model 2 : Epoch 5 Loss 0.6030\n",
            "Model 3 : Epoch 5 Loss 0.4955\n",
            "Time taken for 1 epoch 633.7451553344727 sec\n",
            "\n"
          ],
          "name": "stdout"
        }
      ]
    },
    {
      "cell_type": "markdown",
      "metadata": {
        "id": "AfZWTXkHgZua"
      },
      "source": [
        "### **문장 번역(스페인 -> 영어)** \n",
        "\n",
        "*   tf.keras.preprocessing.sequence.pad_sequences([inputs], maxlen='', padding='post') : 일정한 길이(maxlen)로 맞춰준다. (패딩은 뒤에서)\n",
        "*   \n",
        "\n",
        "  ```\n",
        "  inp_lang.word_index :  {'<start>': 1, '<end>': 2, '.': 3, 'tom': 4, '?': 5...}\n",
        "  ```\n",
        "\n",
        "* tf.expand_dims: 차원을 늘려준다.\n",
        "\n",
        "\n"
      ]
    },
    {
      "cell_type": "code",
      "metadata": {
        "id": "h-wAUSiGFujZ"
      },
      "source": [
        "def evaluate(sentence):\n",
        "  # 어텐션 그래프\n",
        "  # attention_plot = np.zeros((max_length_targ, max_length_inp))\n",
        "\n",
        "  print('model1 : ', models[0])\n",
        "  print('model2 : ', models[1])\n",
        "  print('model3 : ', models[2])\n",
        "\n",
        "\n",
        "  sentence = preprocess_sentence(sentence)\n",
        "\n",
        "  # 문장, input 딕셔너리 출력 \n",
        "  print ('sentence:', sentence)\n",
        "\n",
        "  inputs = [inp_lang.word_index[i] for i in sentence.split(' ')]\n",
        "  inputs = tf.keras.preprocessing.sequence.pad_sequences([inputs],\n",
        "                                                         maxlen=max_length_inp,\n",
        "                                                         padding='post')\n",
        "  inputs2 = [inp_lang.word_index[i] for i in sentence.split(' ')]\n",
        "  inputs2 = tf.keras.preprocessing.sequence.pad_sequences([inputs2],\n",
        "                                                         maxlen=max_length_inp,\n",
        "                                                         padding='post')\n",
        "  inputs3 = [inp_lang.word_index[i] for i in sentence.split(' ')]\n",
        "  inputs3 = tf.keras.preprocessing.sequence.pad_sequences([inputs3],\n",
        "                                                         maxlen=max_length_inp,\n",
        "                                                         padding='post')\n",
        "  inputs = tf.convert_to_tensor(inputs)\n",
        "  inputs2 = tf.convert_to_tensor(inputs2)\n",
        "  inputs3 = tf.convert_to_tensor(inputs3)\n",
        "\n",
        "\n",
        "  result1 = ''\n",
        "  result2 = ''\n",
        "  result3 = ''\n",
        "\n",
        "  hidden = [tf.zeros((1, units))]\n",
        "  hidden2 = [tf.zeros((1, units))]\n",
        "  hidden3 = [tf.zeros((1, units))]\n",
        "\n",
        "  # Encoder 의 hidden 을 Decoder 의 hidden 으로 받는다.\n",
        "  enc_out, enc_hidden = models[0].encoder(inputs, hidden)\n",
        "  print('enc_out', enc_out.shape)\n",
        "  enc_out2, enc_hidden2 = models[1].encoder(inputs2, hidden2)\n",
        "  print('enc_out2', enc_out2.shape)\n",
        "  enc_out3, enc_hidden3 = models[2].encoder(inputs3, hidden3)\n",
        "  print('enc_out3', enc_out3.shape)\n",
        "\n",
        "\n",
        "  dec_hidden = enc_hidden\n",
        "  dec_hidden2 = enc_hidden2\n",
        "  dec_hidden3 = enc_hidden3\n",
        "\n",
        "\n",
        "  # Decoder 의 시작인 '<start>' \n",
        "  dec_input = tf.expand_dims([targ_lang.word_index['<start>']], 0)\n",
        "  dec_input2 = tf.expand_dims([targ_lang.word_index['<start>']], 0)\n",
        "  dec_input3 = tf.expand_dims([targ_lang.word_index['<start>']], 0)\n",
        "\n",
        "  # Target 의 최대 길이 만큼 출력\n",
        "  for t in range(max_length_inp):\n",
        "    predictions, dec_hidden = models[0].decoder(dec_input,\n",
        "                                                         dec_hidden,\n",
        "                                                         enc_out)\n",
        "    predictions2, dec_hidden2 = models[1].decoder(dec_input2,\n",
        "                                                         dec_hidden2,\n",
        "                                                         enc_out2)\n",
        "    predictions3, dec_hidden3 = models[2].decoder(dec_input3,\n",
        "                                                         dec_hidden3,\n",
        "                                                         enc_out3)\n",
        "    \n",
        "    predicted_id = tf.argmax(predictions[0]).numpy() \n",
        "    predicted_id2 = tf.argmax(predictions2[0]).numpy() \n",
        "    predicted_id3 = tf.argmax(predictions3[0]).numpy() \n",
        "\n",
        "    # voting = {}\n",
        "    # if predicted_id not in voting:\n",
        "    #   voting[predicted_id] = 1\n",
        "    # else :\n",
        "    #   voting[predicted_id] += 1\n",
        "    \n",
        "    # if predicted_id2 not in voting:\n",
        "    #   voting[predicted_id2] = 1\n",
        "    # else :\n",
        "    #   voting[predicted_id2] += 1\n",
        "    \n",
        "    # if predicted_id3 not in voting:\n",
        "    #   voting[predicted_id3] = 1\n",
        "    # else :\n",
        "    #   voting[predicted_id3] += 1\n",
        "    # print(voting)\n",
        "    # # print(max(voting,key=voting.get)) # di.get 이용\n",
        "\n",
        "    # voting_id = max(voting,key=voting.get)\n",
        "\n",
        "\n",
        "    # result += targ_lang.index_word[voting_id] + ' '\n",
        "    # print('result: ', result)\n",
        "\n",
        "    # if targ_lang.index_word[voting_id] == '<end>':\n",
        "    #   # return result, sentence, attention_plot\n",
        "    #   return result, sentence\n",
        "\n",
        "    # # 예측된 ID를 모델에 다시 피드합니다.\n",
        "    # dec_input = tf.expand_dims([voting_id], 0)\n",
        "    # print(\"for 문 후 dec_input : \", dec_input)\n",
        "\n",
        "  # for t in range(max_length_targ):\n",
        "  #   predictions, dec_hidden, attention_weights = decoder(dec_input,\n",
        "  #                                                        dec_hidden,\n",
        "  #                                                        enc_out)\n",
        "\n",
        "    # 나중에 어텐션 가중치를 시각화하기 위해 어텐션 가중치를 저장합니다.\n",
        "    # attention_weights = tf.reshape(attention_weights, (-1, ))\n",
        "    # attention_plot[t] = attention_weights.numpy()\n",
        "\n",
        "#     predicted_id_list = []   # 제일 큰 확률 5개의 id 저장 리스트 (확률 값이 아니라 해당 아이디!!!!)\n",
        "#     search_max_predictions = list(predictions[0])  # 큰 값 5개를 찾기 위해서 임시로 복사한 확률 분포 리스트\n",
        "#     for i in range(5):\n",
        "#         argmax_id = tf.argmax(search_max_predictions).numpy() # 확률 제일 큰 값 \n",
        "#         predicted_id_list.append(argmax_id)\n",
        "#         del search_max_predictions[argmax_id]  # 찾은 제일 큰 값 리스트에서 삭제 -> 다음 루프에서 그 다음으로 큰 값 찾기\n",
        "    \n",
        "#     # 예측된 5개의 id 에 해당하는 단어 출력\n",
        "#     for i in predicted_id_list:\n",
        "#         print(i, ' : ', targ_lang.index_word[i])\n",
        "        \n",
        "#     # 다음 나올 단어 입력\n",
        "#     predicted_id = int(input(\"다음 단어의 ID 를 입력하세요 : \"))\n",
        "# #     predicted_id = max(predicted_id_list)\n",
        "    \n",
        "#     print('predicted_id_list : ', predicted_id_list)\n",
        "    \n",
        "\n",
        "    result1 += targ_lang.index_word[predicted_id] + ' '\n",
        "    result2 += targ_lang.index_word[predicted_id2] + ' '\n",
        "    result3 += targ_lang.index_word[predicted_id3] + ' '\n",
        "\n",
        "    if targ_lang.index_word[predicted_id] == '<end>':\n",
        "      return result1, result2, result3, sentence\n",
        "\n",
        "    # 예측된 ID를 모델에 다시 피드합니다.\n",
        "    dec_input = tf.expand_dims([predicted_id], 0)\n",
        "    dec_input2 = tf.expand_dims([predicted_id2], 0)\n",
        "    dec_input3 = tf.expand_dims([predicted_id3], 0)\n",
        "\n",
        "  # return result, sentence, attention_plot\n",
        "  return result1, result2, result3, sentence"
      ],
      "execution_count": 63,
      "outputs": []
    },
    {
      "cell_type": "code",
      "metadata": {
        "id": "X1uJo_rwvQxJ"
      },
      "source": [
        "def translate(sentence):\n",
        "  # result, sentence = evaluate(sentence)\n",
        "  result1, result2, result3, sentence = evaluate(sentence)\n",
        "  print('Input: %s' % (sentence))\n",
        "  print('Model 1 의 Predicted translation: {}'.format(result1))\n",
        "  print('Model 2 의 Predicted translation: {}'.format(result2))\n",
        "  print('Model 3 의 Predicted translation: {}'.format(result3))\n",
        "\n",
        "  # attention_plot = attention_plot[:len(result.split(' ')), :len(sentence.split(' '))]\n",
        "#   plot_attention(attention_plot, sentence.split(' '), result.split(' '))"
      ],
      "execution_count": 64,
      "outputs": []
    },
    {
      "cell_type": "markdown",
      "metadata": {
        "id": "R85_0yJYCxvw"
      },
      "source": [
        "### **Checkpoint 복원**"
      ]
    },
    {
      "cell_type": "code",
      "metadata": {
        "id": "ypD8jH0QvV6-"
      },
      "source": [
        "# checkpoint_dir내에 있는 최근 체크포인트(checkpoint)를 복원\n",
        "checkpoint.restore(tf.train.latest_checkpoint(checkpoint_dir))\n",
        "\n",
        "for idx, checkpoint in enumerate(checkpoints):\n",
        "      checkpoint.restore(tf.train.latest_checkpoint(checkpoint_dir))"
      ],
      "execution_count": 66,
      "outputs": []
    },
    {
      "cell_type": "markdown",
      "metadata": {
        "id": "TZYGST44C5Ym"
      },
      "source": [
        "### **번역 시작**"
      ]
    },
    {
      "cell_type": "code",
      "metadata": {
        "id": "cUDjZTCKvZA5",
        "colab": {
          "base_uri": "https://localhost:8080/"
        },
        "outputId": "35e9171c-36db-4f17-98b8-8f86e8a0a524"
      },
      "source": [
        "translate(u'hace mucho frio aqui.')  # it s very cold here"
      ],
      "execution_count": 67,
      "outputs": [
        {
          "output_type": "stream",
          "text": [
            "model1 :  <__main__.NMT_Model object at 0x7f1c203dcad0>\n",
            "model2 :  <__main__.NMT_Model object at 0x7f1c1ffbe3d0>\n",
            "model3 :  <__main__.NMT_Model object at 0x7f1b9beb1610>\n",
            "sentence: <start> hace mucho frio aqui . <end>\n",
            "enc_out (1, 53, 1024)\n",
            "enc_out2 (1, 53, 1024)\n",
            "enc_out3 (1, 53, 1024)\n",
            "Input: <start> hace mucho frio aqui . <end>\n",
            "Model 1 의 Predicted translation: it s very cold too here . <end> \n",
            "Model 2 의 Predicted translation: volunteer opportunity multiplication fancy budget rely genuine convinced \n",
            "Model 3 의 Predicted translation: frozen ignoring corruption become limit sting mansion responsibilities \n"
          ],
          "name": "stdout"
        }
      ]
    },
    {
      "cell_type": "code",
      "metadata": {
        "id": "76Goju9Rvch8"
      },
      "source": [
        "# translate(u'esta es mi vida.')  # this is my life"
      ],
      "execution_count": 40,
      "outputs": []
    },
    {
      "cell_type": "code",
      "metadata": {
        "id": "dvrhSTomviTt"
      },
      "source": [
        "# translate(u'¿todavia estan en casa?')  # Are you still at home?"
      ],
      "execution_count": 41,
      "outputs": []
    },
    {
      "cell_type": "code",
      "metadata": {
        "id": "OTXXZwkdvg_Y"
      },
      "source": [
        "# 잘못된 번역\n",
        "# translate(u'trata de averiguarlo.')   # try to find out / try to figure out"
      ],
      "execution_count": 42,
      "outputs": []
    },
    {
      "cell_type": "code",
      "metadata": {
        "id": "pwmBqLU8cvE6"
      },
      "source": [
        "# translate(u'Te quiero')   # I love you"
      ],
      "execution_count": 43,
      "outputs": []
    }
  ]
}