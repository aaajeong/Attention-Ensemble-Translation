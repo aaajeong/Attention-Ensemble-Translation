{
 "cells": [
  {
   "cell_type": "markdown",
   "metadata": {
    "id": "5EoRVv9GoMn0"
   },
   "source": [
    "# **Attention Ensemble  - Soft Voting**\n",
    "---"
   ]
  },
  {
   "cell_type": "markdown",
   "metadata": {
    "id": "2V42Oa1cP8eh"
   },
   "source": [
    "### **Import Libraries**"
   ]
  },
  {
   "cell_type": "code",
   "execution_count": 2,
   "metadata": {
    "id": "6C5I92usDlWa"
   },
   "outputs": [],
   "source": [
    "import tensorflow as tf\n",
    "from keras.models import Model\n",
    "import matplotlib.pyplot as plt\n",
    "import matplotlib.ticker as ticker\n",
    "from sklearn.model_selection import train_test_split \n",
    "\n",
    "import unicodedata\n",
    "import re\n",
    "import numpy as np\n",
    "import os\n",
    "import io\n",
    "import time\n",
    "import random"
   ]
  },
  {
   "cell_type": "markdown",
   "metadata": {
    "id": "9TwhXqshQD_d"
   },
   "source": [
    "### **데이터 로드**"
   ]
  },
  {
   "cell_type": "code",
   "execution_count": 3,
   "metadata": {
    "id": "2LGie5tSDrLl"
   },
   "outputs": [],
   "source": [
    "path_to_file = '/Users/ahjeong_park/Study/Attention-Ensemble-Translation/spa-eng/spa.txt'\n",
    "path_to_file_esb = '/Users/ahjeong_park/Study/Attention-Ensemble-Translation/spa-eng/spa_for_esb.txt'"
   ]
  },
  {
   "cell_type": "markdown",
   "metadata": {
    "id": "sXLKdsBsE73t"
   },
   "source": [
    "### **데이터 랜덤 셔플**\n",
    "\n",
    "\n",
    "*   [영어, 스페인어] 쌍 shuffle file 새로 저장\n",
    "*   번역 테스트 시 주석 처리\n",
    "\n"
   ]
  },
  {
   "cell_type": "code",
   "execution_count": 4,
   "metadata": {
    "id": "kcT0PKIZE7Zx"
   },
   "outputs": [],
   "source": [
    "# lines = io.open(path_to_file, encoding='UTF-8').read().strip().split('\\n')\n",
    "# random.shuffle(lines)\n",
    "# f = open(path_to_file_esb, 'w')\n",
    "# for i in lines:\n",
    "#     data = i + '\\n'\n",
    "#     f.write(data)\n",
    "# f.close()"
   ]
  },
  {
   "cell_type": "markdown",
   "metadata": {
    "id": "CpevBqz3QLgl"
   },
   "source": [
    "### **데이터(문장) 전처리**"
   ]
  },
  {
   "cell_type": "code",
   "execution_count": 5,
   "metadata": {
    "id": "NvfW9HTkENRY"
   },
   "outputs": [],
   "source": [
    "# 유니코드 파일을 아스키 코드 파일로 변환합니다.\n",
    "def unicode_to_ascii(s):\n",
    "  return ''.join(c for c in unicodedata.normalize('NFD', s)\n",
    "      if unicodedata.category(c) != 'Mn')\n",
    "\n",
    "\n",
    "def preprocess_sentence(w):\n",
    "  w = unicode_to_ascii(w.lower().strip())\n",
    "\n",
    "  # 단어와 단어 뒤에 오는 구두점(.)사이에 공백을 생성합니다.\n",
    "  # 예시: \"he is a boy.\" => \"he is a boy .\"\n",
    "  # 참고:- https://stackoverflow.com/questions/3645931/python-padding-punctuation-with-white-spaces-keeping-punctuation\n",
    "  w = re.sub(r\"([?.!,¿])\", r\" \\1 \", w)\n",
    "  w = re.sub(r'[\" \"]+', \" \", w)\n",
    "\n",
    "  # (a-z, A-Z, \".\", \"?\", \"!\", \",\")을 제외한 모든 것을 공백으로 대체합니다.\n",
    "  w = re.sub(r\"[^a-zA-Z?.!,¿]+\", \" \", w)\n",
    "\n",
    "  w = w.strip()\n",
    "\n",
    "  # 모델이 예측을 시작하거나 중단할 때를 알게 하기 위해서\n",
    "  # 문장에 start와 end 토큰을 추가합니다.\n",
    "  w = '<start> ' + w + ' <end>'\n",
    "  return w"
   ]
  },
  {
   "cell_type": "markdown",
   "metadata": {
    "id": "ZCvca5_mQZvK"
   },
   "source": [
    "### **Dataset 생성**\n",
    "1. 문장에 있는 억양을 제거합니다.\n",
    "2. 불필요한 문자를 제거하여 문장을 정리합니다.\n",
    "3. 다음과 같은 형식으로 문장의 쌍을 반환합니다: [영어, 스페인어]"
   ]
  },
  {
   "cell_type": "code",
   "execution_count": 6,
   "metadata": {
    "id": "3VXgr4_2EUgt"
   },
   "outputs": [],
   "source": [
    "def create_dataset(path, num_examples):\n",
    "  lines = io.open(path, encoding='UTF-8').read().strip().split('\\n')\n",
    "\n",
    "  word_pairs = [[preprocess_sentence(w) for w in l.split('\\t')]  for l in lines[:num_examples]]\n",
    "\n",
    "  return zip(*word_pairs)"
   ]
  },
  {
   "cell_type": "markdown",
   "metadata": {
    "id": "ImjigtL7QrJD"
   },
   "source": [
    "### **Language 가 들어오면 공백 단위로 토큰화**\n",
    "- fit_on_texts(): 문자 데이터를 입력받아서 리스트의 형태로 변환\n",
    "- texts_to_sequences: 텍스트 안의 단어들을 숫자 시퀀스로 출력\n",
    "- pad_sequcences(tensor, padding='post') : 서로 다른 개수의 단어로 이루어진 문장을 같은 길이로 만들어주기 위해 패딩을 사용\n",
    "  - padding = 'post' : [[ 0  0  0  5  3  2  4], [ 0  0  0  5  3  2  7],...,]\n",
    "  - padding = 'pre' : 뒤 부터 패딩이 채워짐\n",
    "  - 가장 긴 sequence 의 길이 만큼\n",
    "  "
   ]
  },
  {
   "cell_type": "code",
   "execution_count": 7,
   "metadata": {
    "id": "u9VUFvjLEdER"
   },
   "outputs": [],
   "source": [
    "def tokenize(lang):\n",
    "  lang_tokenizer = tf.keras.preprocessing.text.Tokenizer(\n",
    "      filters='')\n",
    "  lang_tokenizer.fit_on_texts(lang)\n",
    "\n",
    "  tensor = lang_tokenizer.texts_to_sequences(lang)\n",
    "\n",
    "  tensor = tf.keras.preprocessing.sequence.pad_sequences(tensor,\n",
    "                                                         padding='post')\n",
    "\n",
    "  return tensor, lang_tokenizer"
   ]
  },
  {
   "cell_type": "markdown",
   "metadata": {
    "id": "aXvBdPFoU1i-"
   },
   "source": [
    "### **전처리된 타겟 문장과 입력 문장 쌍을 생성**\n",
    "- input_tensor : input 문장의 패딩 처리된 숫자 시퀀스\n",
    "- inp_lang_tokenizer : input 문장을 공백 단위로 토큰화, 문자 -> 리스트 변환\n",
    "- target_tensor, targ_lang_tokenizer : 위와 비슷\n"
   ]
  },
  {
   "cell_type": "code",
   "execution_count": 8,
   "metadata": {
    "id": "Rc4Rbx8JEjQZ"
   },
   "outputs": [],
   "source": [
    "def load_dataset(path, num_examples=None):\n",
    "  \n",
    "  targ_lang, inp_lang = create_dataset(path, num_examples)\n",
    "\n",
    "  input_tensor, inp_lang_tokenizer = tokenize(inp_lang)\n",
    "  target_tensor, targ_lang_tokenizer = tokenize(targ_lang)\n",
    "\n",
    "  return input_tensor, target_tensor, inp_lang_tokenizer, targ_lang_tokenizer"
   ]
  },
  {
   "cell_type": "markdown",
   "metadata": {
    "id": "NykrAhCiX_nn"
   },
   "source": [
    "### **언어 데이터셋 크기 제한**\n",
    "- 언어 데이터셋을 아래의 크기로 제한하여 훈련과 검증을 수행\n",
    "- inp_lang, targ_lang : 인풋,타겟 문장의 문자 -> 리스트 변환 결과\n",
    "- max_length_targ, max_length_inp : 인풋, 타겟 문장의 '패딩된' 숫자 시퀀스 길이 -> 타겟 텐서와 입력 텐서의 최대 길이"
   ]
  },
  {
   "cell_type": "code",
   "execution_count": 9,
   "metadata": {
    "id": "ioibz-1bEkx-"
   },
   "outputs": [],
   "source": [
    "num_examples = 30000\n",
    "input_tensor, target_tensor, inp_lang, targ_lang = load_dataset(path_to_file_esb, num_examples)\n",
    "\n",
    "max_length_targ, max_length_inp = target_tensor.shape[1], input_tensor.shape[1]"
   ]
  },
  {
   "cell_type": "markdown",
   "metadata": {
    "id": "mQRUdPQDMu8m"
   },
   "source": [
    "### **데이터셋 (테스트 & 검증) 분리**"
   ]
  },
  {
   "cell_type": "code",
   "execution_count": 10,
   "metadata": {
    "colab": {
     "base_uri": "https://localhost:8080/"
    },
    "id": "V7I7aQZrMuKM",
    "outputId": "37a64684-bb7d-4c61-da80-7ddc526232c4"
   },
   "outputs": [
    {
     "name": "stdout",
     "output_type": "stream",
     "text": [
      "24000 24000 6000 6000\n"
     ]
    }
   ],
   "source": [
    "# 훈련 집합과 검증 집합을 80대 20으로 분리합니다.\n",
    "input_tensor_train, input_tensor_val, target_tensor_train, target_tensor_val = train_test_split(input_tensor, target_tensor, test_size=0.2)\n",
    "\n",
    "# 훈련 집합과 검증 집합의 데이터 크기를 출력합니다.\n",
    "print(len(input_tensor_train), len(target_tensor_train), len(input_tensor_val), len(target_tensor_val))"
   ]
  },
  {
   "cell_type": "markdown",
   "metadata": {
    "id": "-XAy3EiWZz3b"
   },
   "source": [
    "### 인덱스 -> 해당 word 로\n",
    "\n",
    "```\n",
    "Input Language; index to word mapping\n",
    "1 ----> <start>\n",
    "93 ----> tomas\n",
    "27 ----> le\n",
    "1063 ----> escribio\n",
    "7 ----> a\n",
    "120 ----> maria\n",
    "3 ----> .\n",
    "2 ----> <end>\n",
    "```\n",
    "\n",
    "\n",
    "```\n",
    "Target Language; index to word mapping\n",
    "1 ----> <start>\n",
    "8 ----> tom\n",
    "695 ----> wrote\n",
    "6 ----> to\n",
    "31 ----> mary\n",
    "3 ----> .\n",
    "2 ----> <end>\n",
    "```\n",
    "\n"
   ]
  },
  {
   "cell_type": "code",
   "execution_count": 11,
   "metadata": {
    "id": "XwDUP11tErzK"
   },
   "outputs": [],
   "source": [
    "def convert(lang, tensor):\n",
    "  for t in tensor:\n",
    "    if t!=0:\n",
    "      print (\"%d ----> %s\" % (t, lang.index_word[t]))"
   ]
  },
  {
   "cell_type": "markdown",
   "metadata": {
    "id": "yrwIipPCbcBB"
   },
   "source": [
    "### **Buffer, Batch, epoch, embedding dimension, units 설정**\n",
    "- Tokenizer 의 word_index 속성 : 속성은 단어와 숫자의 키-값 쌍을 포함하는 딕셔너리를 반환\n",
    "- 따라서 vocab_inp_size, vocab_inp_size : 인풋, 타겟의 단어-숫자 딕셔너리 최대 길이 + 1 (?)\n",
    "- dataset.batch(BATCH_SIZE, drop_remainder = True) : 배치사이즈 만큼 분할 후 남은 데이터를 drop 할 것인지 여부\n",
    "- shuffle : 데이터셋 적절히 섞어준다."
   ]
  },
  {
   "cell_type": "code",
   "execution_count": 12,
   "metadata": {
    "id": "hU7tb2GYEvZX"
   },
   "outputs": [],
   "source": [
    "BUFFER_SIZE = len(input_tensor_train)\n",
    "BATCH_SIZE = 64\n",
    "steps_per_epoch = len(input_tensor_train)//BATCH_SIZE\n",
    "embedding_dim = 256\n",
    "units = 1024\n",
    "vocab_inp_size = len(inp_lang.word_index)+1\n",
    "vocab_tar_size = len(targ_lang.word_index)+1\n",
    "\n",
    "# 훈련 집합에서만 shuffle, batch\n",
    "dataset = tf.data.Dataset.from_tensor_slices((input_tensor_train, target_tensor_train)).shuffle(BUFFER_SIZE)\n",
    "dataset = dataset.batch(BATCH_SIZE, drop_remainder=True)"
   ]
  },
  {
   "cell_type": "code",
   "execution_count": 13,
   "metadata": {
    "colab": {
     "base_uri": "https://localhost:8080/"
    },
    "id": "-MitMbnt45EM",
    "outputId": "97b665ac-8559-459e-a7c1-455e4eb8d655"
   },
   "outputs": [
    {
     "data": {
      "text/plain": [
       "(TensorShape([64, 53]), TensorShape([64, 51]))"
      ]
     },
     "execution_count": 13,
     "metadata": {},
     "output_type": "execute_result"
    }
   ],
   "source": [
    "example_input_batch, example_target_batch = next(iter(dataset))\n",
    "example_input_batch.shape, example_target_batch.shape"
   ]
  },
  {
   "cell_type": "markdown",
   "metadata": {
    "id": "mXVK8Dv4cOi7"
   },
   "source": [
    "### **Encoder**\n",
    "\n",
    "\n",
    "1.   초기화 : vocab_size(단어의 크기), embedding_dim(임베딩 차원 수), enc_units(인코더의 히든 사이즈), batch_sz(배치 사이즈)\n",
    "  - embedding_dim : 단어 -> 임베딩 벡터로 하기 위한 차원 수\n",
    "2.  call : gru 에 들어가 output, state 출력\n",
    "3.  initialize_hidden_state : 맨 처음 gru에 들어가기 위한 더미 입력 값\n",
    "\n",
    "\n"
   ]
  },
  {
   "cell_type": "code",
   "execution_count": 14,
   "metadata": {
    "id": "AvYcCHoFE7UY"
   },
   "outputs": [],
   "source": [
    "class Encoder(tf.keras.Model):\n",
    "  def __init__(self, vocab_size, embedding_dim, enc_units, batch_sz):\n",
    "    super(Encoder, self).__init__()\n",
    "    self.batch_sz = batch_sz\n",
    "    self.enc_units = enc_units\n",
    "    self.embedding = tf.keras.layers.Embedding(vocab_size, embedding_dim)\n",
    "    self.gru = tf.keras.layers.GRU(self.enc_units,\n",
    "                                   return_sequences=True,\n",
    "                                   return_state=True,\n",
    "                                   recurrent_initializer='glorot_uniform')\n",
    "\n",
    "  def call(self, x, hidden):\n",
    "    x = self.embedding(x)\n",
    "    output, state = self.gru(x, initial_state = hidden)\n",
    "    return output, state\n",
    "\n",
    "  def initialize_hidden_state(self):\n",
    "    return tf.zeros((self.batch_sz, self.enc_units))"
   ]
  },
  {
   "cell_type": "markdown",
   "metadata": {
    "id": "iBEgB8_Lf1Wx"
   },
   "source": [
    "### **Encoder 객체 생성**"
   ]
  },
  {
   "cell_type": "code",
   "execution_count": 15,
   "metadata": {
    "id": "LsoTBEKRFgkQ"
   },
   "outputs": [],
   "source": [
    "# encoder = Encoder(vocab_inp_size, embedding_dim, units, BATCH_SIZE)"
   ]
  },
  {
   "cell_type": "markdown",
   "metadata": {
    "id": "YXbulBGnesz7"
   },
   "source": [
    "### **Attention**\n"
   ]
  },
  {
   "cell_type": "code",
   "execution_count": 16,
   "metadata": {
    "id": "2T7avh_BFVZN"
   },
   "outputs": [],
   "source": [
    "class BahdanauAttention(tf.keras.layers.Layer):\n",
    "  def __init__(self, units):\n",
    "    super(BahdanauAttention, self).__init__()\n",
    "    self.W1 = tf.keras.layers.Dense(units)\n",
    "    self.W2 = tf.keras.layers.Dense(units)\n",
    "    self.V = tf.keras.layers.Dense(1)\n",
    "\n",
    "  def call(self, query, values):\n",
    "    # 쿼리 은닉 상태(query hidden state)는 (batch_size, hidden size)쌍으로 이루어져 있습니다.\n",
    "    # query_with_time_axis은 (batch_size, 1, hidden size)쌍으로 이루어져 있습니다.\n",
    "    # values는 (batch_size, max_len, hidden size)쌍으로 이루어져 있습니다.\n",
    "    # 스코어(score)계산을 위해 덧셈을 수행하고자 시간 축을 확장하여 아래의 과정을 수행합니다.\n",
    "    query_with_time_axis = tf.expand_dims(query, 1)\n",
    "\n",
    "    # score는 (batch_size, max_length, 1)쌍으로 이루어져 있습니다.\n",
    "    # score를 self.V에 적용하기 때문에 마지막 축에 1을 얻습니다.\n",
    "    # self.V에 적용하기 전에 텐서는 (batch_size, max_length, units)쌍으로 이루어져 있습니다.\n",
    "    score = self.V(tf.nn.tanh(\n",
    "        self.W1(query_with_time_axis) + self.W2(values)))\n",
    "\n",
    "    # attention_weights는 (batch_size, max_length, 1)쌍으로 이루어져 있습니다. \n",
    "    attention_weights = tf.nn.softmax(score, axis=1)\n",
    "\n",
    "    # 덧셈이후 컨텍스트 벡터(context_vector)는 (batch_size, hidden_size)쌍으로 이루어져 있습니다.\n",
    "    context_vector = attention_weights * values\n",
    "    context_vector = tf.reduce_sum(context_vector, axis=1)\n",
    "\n",
    "    return context_vector, attention_weights"
   ]
  },
  {
   "cell_type": "markdown",
   "metadata": {
    "id": "HOyJPT-ze23p"
   },
   "source": [
    "### **Decoder**\n",
    "\n",
    "\n",
    "1.   초기화 : vocab_size(단어의 크기), embedding_dim(임베딩 차원 수), enc_units(인코더의 히든 사이즈), batch_sz(배치 사이즈)\n",
    "2.   encoder 와의 차이점 : 마지막 fully_connected_layer(tf.keras.layers.Dense) 추가\n",
    "\n"
   ]
  },
  {
   "cell_type": "code",
   "execution_count": 17,
   "metadata": {
    "id": "weUzeqB1FaVk"
   },
   "outputs": [],
   "source": [
    "class Decoder(tf.keras.Model):\n",
    "  def __init__(self, vocab_size, embedding_dim, dec_units, batch_sz):\n",
    "    super(Decoder, self).__init__()\n",
    "    self.batch_sz = batch_sz\n",
    "    self.dec_units = dec_units\n",
    "    self.embedding = tf.keras.layers.Embedding(vocab_size, embedding_dim)\n",
    "    self.gru = tf.keras.layers.GRU(self.dec_units,\n",
    "                                   return_sequences=True,\n",
    "                                   return_state=True,\n",
    "                                   recurrent_initializer='glorot_uniform')\n",
    "    self.fc = tf.keras.layers.Dense(vocab_size)\n",
    "\n",
    "    # 어텐션을 사용합니다.\n",
    "    self.attention = BahdanauAttention(self.dec_units)\n",
    "\n",
    "  def call(self, x, hidden, enc_output):\n",
    "    # enc_output는 (batch_size, max_length, hidden_size)쌍으로 이루어져 있습니다.\n",
    "    context_vector, attention_weights = self.attention(hidden, enc_output)\n",
    "\n",
    "    # 임베딩층을 통과한 후 x는 (batch_size, 1, embedding_dim)쌍으로 이루어져 있습니다.\n",
    "    x = self.embedding(x)\n",
    "\n",
    "    # 컨텍스트 벡터와 임베딩 결과를 결합한 이후 x의 형태는 (batch_size, 1, embedding_dim + hidden_size)쌍으로 이루어져 있습니다.\n",
    "    x = tf.concat([tf.expand_dims(context_vector, 1), x], axis=-1)\n",
    "\n",
    "    # 위에서 결합된 벡터를 GRU에 전달합니다.\n",
    "    output, state = self.gru(x)\n",
    "\n",
    "    # output은 (batch_size * 1, hidden_size)쌍으로 이루어져 있습니다.\n",
    "    output = tf.reshape(output, (-1, output.shape[2]))\n",
    "\n",
    "    # output은 (batch_size, vocab)쌍으로 이루어져 있습니다.\n",
    "    x = self.fc(output)\n",
    "\n",
    "    # return x, state, attention_weights\n",
    "    return x, state"
   ]
  },
  {
   "cell_type": "markdown",
   "metadata": {
    "id": "dG7bJQ8sf61-"
   },
   "source": [
    "### **Decoder 객체 생성**"
   ]
  },
  {
   "cell_type": "code",
   "execution_count": 18,
   "metadata": {
    "id": "NoeGR2CsFk8E"
   },
   "outputs": [],
   "source": [
    "# decoder = Decoder(vocab_tar_size, embedding_dim, units, BATCH_SIZE)"
   ]
  },
  {
   "cell_type": "markdown",
   "metadata": {
    "id": "wmQNy2L3Qn-M"
   },
   "source": [
    "### **NMT Model 생성**"
   ]
  },
  {
   "cell_type": "code",
   "execution_count": 19,
   "metadata": {
    "id": "cWwIOiaEQnr9"
   },
   "outputs": [],
   "source": [
    "class NMT_Model():\n",
    "  def __init__(self):\n",
    "    super(NMT_Model, self).__init__()\n",
    "    self.encoder = Encoder(vocab_inp_size, embedding_dim, units, BATCH_SIZE)\n",
    "    self.decoder = Decoder(vocab_tar_size, embedding_dim, units, BATCH_SIZE)"
   ]
  },
  {
   "cell_type": "markdown",
   "metadata": {
    "id": "yoywC60GQDIR"
   },
   "source": [
    "### **Ensemble Model 생성**"
   ]
  },
  {
   "cell_type": "code",
   "execution_count": 20,
   "metadata": {
    "id": "CkYKjqyoQCq5"
   },
   "outputs": [],
   "source": [
    "models = []\n",
    "num_models = 5\n",
    "for m in range(num_models):\n",
    "  m = NMT_Model()\n",
    "  models.append(m)\n"
   ]
  },
  {
   "cell_type": "markdown",
   "metadata": {
    "id": "GrfLbnT6gAXp"
   },
   "source": [
    "### **Loss Function & Optimizer**"
   ]
  },
  {
   "cell_type": "code",
   "execution_count": 23,
   "metadata": {
    "id": "QFs5xbUXFmPH"
   },
   "outputs": [],
   "source": [
    "optimizer = tf.keras.optimizers.Adam()\n",
    "loss_object = tf.keras.losses.SparseCategoricalCrossentropy(\n",
    "    from_logits=True, reduction='none')\n",
    "\n",
    "def loss_function(real, pred):\n",
    "  mask = tf.math.logical_not(tf.math.equal(real, 0))\n",
    "  loss_ = loss_object(real, pred)\n",
    "\n",
    "  mask = tf.cast(mask, dtype=loss_.dtype)\n",
    "  loss_ *= mask\n",
    "\n",
    "  return tf.reduce_mean(loss_)"
   ]
  },
  {
   "cell_type": "markdown",
   "metadata": {
    "id": "43_Spvj-gOsG"
   },
   "source": [
    "### **Chekcpoint**\n",
    "- 여기서 학습한 매개변수를 저장, optimizer/encoder/decoder"
   ]
  },
  {
   "cell_type": "code",
   "execution_count": 24,
   "metadata": {
    "id": "Z7GWRTtRFoGz"
   },
   "outputs": [],
   "source": [
    "checkpoint_dir = '/Users/ahjeong_park/Study/Attention-Ensemble-Translation/training_checkpoints_esb'\n",
    "checkpoint_dir_test = '/Users/ahjeong_park/Study/Attention-Ensemble-Translation/training_checkpoints_esb2'\n",
    "checkpoint_prefix = os.path.join(checkpoint_dir, \"ckpt\")\n",
    "checkpoints = []\n",
    "\n",
    "for m in range(num_models):\n",
    "  checkpoint = tf.train.Checkpoint(optimizer=optimizer,\n",
    "                                 encoder=models[m].encoder,\n",
    "                                 decoder=models[m].decoder)\n",
    "  checkpoints.append(checkpoint)\n"
   ]
  },
  {
   "cell_type": "code",
   "execution_count": 25,
   "metadata": {
    "colab": {
     "base_uri": "https://localhost:8080/"
    },
    "id": "1dtBOTNp93pQ",
    "outputId": "28f8d7e7-3fff-487f-a253-de0f62559f44"
   },
   "outputs": [
    {
     "name": "stdout",
     "output_type": "stream",
     "text": [
      "[<tensorflow.python.training.tracking.util.Checkpoint object at 0x7fce12acd1d0>, <tensorflow.python.training.tracking.util.Checkpoint object at 0x7fce12acd198>, <tensorflow.python.training.tracking.util.Checkpoint object at 0x7fce12acd2b0>, <tensorflow.python.training.tracking.util.Checkpoint object at 0x7fce12acd3c8>, <tensorflow.python.training.tracking.util.Checkpoint object at 0x7fce12acd470>]\n"
     ]
    }
   ],
   "source": [
    "print(checkpoints)"
   ]
  },
  {
   "cell_type": "markdown",
   "metadata": {
    "id": "vPqtJ9YsWqG6"
   },
   "source": [
    "### **Train_step**"
   ]
  },
  {
   "cell_type": "code",
   "execution_count": 26,
   "metadata": {
    "id": "W4M_cQT0kp5S"
   },
   "outputs": [],
   "source": [
    "# @tf.function\n",
    "def train_step(model, inp, targ, enc_hidden):\n",
    "  loss = 0\n",
    "\n",
    "  with tf.GradientTape() as tape:\n",
    "    enc_output, enc_hidden = model.encoder(inp, enc_hidden)\n",
    "\n",
    "    dec_hidden = enc_hidden\n",
    "\n",
    "    dec_input = tf.expand_dims([targ_lang.word_index['<start>']] * BATCH_SIZE, 1)\n",
    "\n",
    "    # 교사 강요(teacher forcing) - 다음 입력으로 타겟을 피딩(feeding)합니다.\n",
    "    for t in range(1, targ.shape[1]):\n",
    "      # enc_output를 디코더에 전달합니다.\n",
    "      predictions, dec_hidden = model.decoder(dec_input, dec_hidden, enc_output)\n",
    "      # print('predictions', predictions.shape)\n",
    "\n",
    "      loss += loss_function(targ[:, t], predictions)\n",
    "\n",
    "      # 교사 강요(teacher forcing)를 사용합니다. -> 훈련에서는 실제 값을 이용\n",
    "      dec_input = tf.expand_dims(targ[:, t], 1)\n",
    "\n",
    "  batch_loss = (loss / int(targ.shape[1]))\n",
    "  variables = model.encoder.trainable_variables + model.decoder.trainable_variables\n",
    "  gradients = tape.gradient(loss, variables)\n",
    "  optimizer.apply_gradients(zip(gradients, variables))\n",
    "  return batch_loss"
   ]
  },
  {
   "cell_type": "markdown",
   "metadata": {
    "id": "unWNByYCIae0"
   },
   "source": [
    "### **학습**\n",
    "- 학습 코드 X"
   ]
  },
  {
   "cell_type": "markdown",
   "metadata": {
    "id": "AfZWTXkHgZua"
   },
   "source": [
    "### **문장 번역(스페인 -> 영어)** \n",
    "\n",
    "*   tf.keras.preprocessing.sequence.pad_sequences([inputs], maxlen='', padding='post') : 일정한 길이(maxlen)로 맞춰준다. (패딩은 뒤에서)\n",
    "*   \n",
    "\n",
    "  ```\n",
    "  inp_lang.word_index :  {'<start>': 1, '<end>': 2, '.': 3, 'tom': 4, '?': 5...}\n",
    "  ```\n",
    "\n",
    "* tf.expand_dims: 차원을 늘려준다.\n",
    "\n",
    "\n"
   ]
  },
  {
   "cell_type": "code",
   "execution_count": 29,
   "metadata": {
    "id": "h-wAUSiGFujZ"
   },
   "outputs": [],
   "source": [
    "def evaluate(sentence):\n",
    "\n",
    "  sentence = preprocess_sentence(sentence)\n",
    "\n",
    "  # 문장, input 딕셔너리 출력 \n",
    "  print ('sentence:', sentence)\n",
    "\n",
    "  inputs = [inp_lang.word_index[i] for i in sentence.split(' ')]\n",
    "  inputs = tf.keras.preprocessing.sequence.pad_sequences([inputs],\n",
    "                                                         maxlen=max_length_inp,\n",
    "                                                         padding='post')\n",
    "  inputs2 = [inp_lang.word_index[i] for i in sentence.split(' ')]\n",
    "  inputs2 = tf.keras.preprocessing.sequence.pad_sequences([inputs2],\n",
    "                                                         maxlen=max_length_inp,\n",
    "                                                         padding='post')\n",
    "  inputs3 = [inp_lang.word_index[i] for i in sentence.split(' ')]\n",
    "  inputs3 = tf.keras.preprocessing.sequence.pad_sequences([inputs3],\n",
    "                                                         maxlen=max_length_inp,\n",
    "                                                         padding='post')\n",
    "  inputs4 = [inp_lang.word_index[i] for i in sentence.split(' ')]\n",
    "  inputs4 = tf.keras.preprocessing.sequence.pad_sequences([inputs4],\n",
    "                                                         maxlen=max_length_inp,\n",
    "                                                         padding='post')\n",
    "  inputs5 = [inp_lang.word_index[i] for i in sentence.split(' ')]\n",
    "  inputs5 = tf.keras.preprocessing.sequence.pad_sequences([inputs5],\n",
    "                                                         maxlen=max_length_inp,\n",
    "                                                         padding='post')\n",
    "    \n",
    "  inputs = tf.convert_to_tensor(inputs)\n",
    "  inputs2 = tf.convert_to_tensor(inputs2)\n",
    "  inputs3 = tf.convert_to_tensor(inputs3)\n",
    "  inputs4 = tf.convert_to_tensor(inputs2)\n",
    "  inputs5 = tf.convert_to_tensor(inputs3)\n",
    "\n",
    "\n",
    "  result1 = ''\n",
    "  result2 = ''\n",
    "  result3 = ''\n",
    "  result4 = ''\n",
    "  result5 = ''\n",
    "  voting_result = ''\n",
    "\n",
    "  hidden = [tf.zeros((1, units))]\n",
    "  hidden2 = [tf.zeros((1, units))]\n",
    "  hidden3 = [tf.zeros((1, units))]\n",
    "  hidden4 = [tf.zeros((1, units))]\n",
    "  hidden5 = [tf.zeros((1, units))]\n",
    "\n",
    "  # Encoder 의 hidden 을 Decoder 의 hidden 으로 받는다.\n",
    "  enc_out, enc_hidden = models[0].encoder(inputs, hidden)\n",
    "\n",
    "  enc_out2, enc_hidden2 = models[1].encoder(inputs2, hidden2)\n",
    "\n",
    "  enc_out3, enc_hidden3 = models[2].encoder(inputs3, hidden3)\n",
    "\n",
    "  enc_out4, enc_hidden4 = models[3].encoder(inputs4, hidden4)\n",
    "\n",
    "  enc_out5, enc_hidden5 = models[4].encoder(inputs5, hidden5)\n",
    "\n",
    "\n",
    "\n",
    "  dec_hidden = enc_hidden\n",
    "  dec_hidden2 = enc_hidden2\n",
    "  dec_hidden3 = enc_hidden3\n",
    "  dec_hidden4 = enc_hidden4\n",
    "  dec_hidden5 = enc_hidden5\n",
    "\n",
    "\n",
    "\n",
    "  # Decoder 의 시작인 '<start>' \n",
    "  dec_input = tf.expand_dims([targ_lang.word_index['<start>']], 0)\n",
    "  dec_input2 = tf.expand_dims([targ_lang.word_index['<start>']], 0)\n",
    "  dec_input3 = tf.expand_dims([targ_lang.word_index['<start>']], 0)\n",
    "  dec_input4 = tf.expand_dims([targ_lang.word_index['<start>']], 0)\n",
    "  dec_input5 = tf.expand_dims([targ_lang.word_index['<start>']], 0)\n",
    "\n",
    "  # Target 의 최대 길이 만큼 출력\n",
    "  for t in range(max_length_inp):\n",
    "    predictions, dec_hidden = models[0].decoder(dec_input,\n",
    "                                                         dec_hidden,\n",
    "                                                         enc_out)\n",
    "    predictions2, dec_hidden2 = models[1].decoder(dec_input2,\n",
    "                                                         dec_hidden2,\n",
    "                                                         enc_out2)\n",
    "    predictions3, dec_hidden3 = models[2].decoder(dec_input3,\n",
    "                                                         dec_hidden3,\n",
    "                                                         enc_out3)\n",
    "    predictions4, dec_hidden4 = models[3].decoder(dec_input4,\n",
    "                                                         dec_hidden4,\n",
    "                                                         enc_out4)\n",
    "    predictions5, dec_hidden5 = models[4].decoder(dec_input5,\n",
    "                                                         dec_hidden5,\n",
    "                                                         enc_out5)\n",
    "    \n",
    "    \n",
    "    predicted_id = tf.argmax(predictions[0]).numpy() \n",
    "    predicted_id2 = tf.argmax(predictions2[0]).numpy() \n",
    "    predicted_id3 = tf.argmax(predictions3[0]).numpy() \n",
    "    predicted_id4 = tf.argmax(predictions4[0]).numpy() \n",
    "    predicted_id5 = tf.argmax(predictions5[0]).numpy()\n",
    "    \n",
    "    # Soft Voting\n",
    "    predictions_sum = tf.add(predictions[0], predictions2[0], predictions3[0])\n",
    "    predictions_sum = tf.add(predictions_sum, predictions4[0], predictions5[0])\n",
    "    mean = tf.divide(predictions_sum, 5)\n",
    "    voting_id = tf.argmax(mean).numpy()\n",
    "\n",
    "    # tensorflow 에서 .numpy(): Tensor -> Numpy 로 바꿔주는 역할\n",
    "    # predictions[0]  = tf.Tensor([-7.6920695 -7.9410057  3.7609155 ... ])\n",
    "\n",
    "    print('p1 : ', predicted_id, mean[predicted_id])\n",
    "    print('p2 : ', predicted_id2, mean[predicted_id2])\n",
    "    print('p3 : ', predicted_id3, mean[predicted_id3])\n",
    "    print('p4 : ', predicted_id4, mean[predicted_id4])\n",
    "    print('p5 : ', predicted_id5, mean[predicted_id5])\n",
    "    print('voting : ', voting_id, mean[voting_id])\n",
    "    \n",
    "    result1 += targ_lang.index_word[predicted_id] + ' '\n",
    "    result2 += targ_lang.index_word[predicted_id2] + ' '\n",
    "    result3 += targ_lang.index_word[predicted_id3] + ' '\n",
    "    result4 += targ_lang.index_word[predicted_id4] + ' '\n",
    "    result5 += targ_lang.index_word[predicted_id5] + ' '\n",
    "    voting_result += targ_lang.index_word[voting_id] + ' '\n",
    "\n",
    "\n",
    "    if targ_lang.index_word[voting_id] == '<end>':\n",
    "      return result1, result2, result3, result4, result5, voting_result, sentence\n",
    "\n",
    "    # 예측된 ID를 모델에 다시 피드합니다. (voting_id)\n",
    "    dec_input = tf.expand_dims([voting_id], 0)\n",
    "    dec_input2 = tf.expand_dims([voting_id], 0)\n",
    "    dec_input3 = tf.expand_dims([voting_id], 0)\n",
    "    dec_input4 = tf.expand_dims([voting_id], 0)\n",
    "    dec_input5 = tf.expand_dims([voting_id], 0)\n",
    "\n",
    "  return result1, result2, result3, result4, result5, voting_result, sentence"
   ]
  },
  {
   "cell_type": "code",
   "execution_count": null,
   "metadata": {},
   "outputs": [],
   "source": [
    "def translate(sentence, start_row):\n",
    "    result1, result2, result3, result4, result5, voting_result, sentence = evaluate(sentence)\n",
    "    result_list = [('Model 1', result1),\n",
    "                   ('Model 2', result2),\n",
    "                   ('Model 3', result3),\n",
    "                   ('Model 4', result4),\n",
    "                   ('Model 5', result5),\n",
    "                   ('SoftVoting', voting_result)]\n",
    "        \n",
    "    # 엑셀 파일 불러오기\n",
    "    wb = openpyxl.load_workbook('Accuracy_Compare.xlsx')\n",
    "\n",
    "    # 엑셀 파일의 시트 활성화\n",
    "    sheet = wb['SoftVoting']\n",
    "\n",
    "    \n",
    "    for (model, item) in enumerate(result_list):\n",
    "        if item[0] != 'SoftVoting':\n",
    "            sheet.cell(row = start_row + model, column = 5).value = item[1]\n",
    "        else :    \n",
    "            sheet.cell(row = start_row + model, column = 6).value = item[1]\n",
    "        \n",
    "    \n",
    "    wb.save('Accuracy_Compare.xlsx')"
   ]
  },
  {
   "cell_type": "markdown",
   "metadata": {
    "id": "R85_0yJYCxvw"
   },
   "source": [
    "### **Checkpoint 복원**"
   ]
  },
  {
   "cell_type": "code",
   "execution_count": 31,
   "metadata": {},
   "outputs": [],
   "source": [
    "ckp_dir_m1 = '/Users/ahjeong_park/Study/Attention-Ensemble-Translation/5 Models Checkpoints_60000/training_checkpoints_esb'\n",
    "ckp_dir_m2 = '/Users/ahjeong_park/Study/Attention-Ensemble-Translation/5 Models Checkpoints_60000/training_checkpoints_esb 2'\n",
    "ckp_dir_m3 = '/Users/ahjeong_park/Study/Attention-Ensemble-Translation/5 Models Checkpoints_60000/training_checkpoints_esb 3'\n",
    "ckp_dir_m4 = '/Users/ahjeong_park/Study/Attention-Ensemble-Translation/5 Models Checkpoints_60000/training_checkpoints_esb 4'\n",
    "ckp_dir_m5 = '/Users/ahjeong_park/Study/Attention-Ensemble-Translation/5 Models Checkpoints_60000/training_checkpoints_esb 5'"
   ]
  },
  {
   "cell_type": "code",
   "execution_count": 32,
   "metadata": {
    "id": "4lQepsNS0L24"
   },
   "outputs": [
    {
     "data": {
      "text/plain": [
       "<tensorflow.python.training.tracking.util.CheckpointLoadStatus at 0x7fce12cc84a8>"
      ]
     },
     "execution_count": 32,
     "metadata": {},
     "output_type": "execute_result"
    }
   ],
   "source": [
    "# checkpoint_dir내에 있는 최근 체크포인트(checkpoint)를 복원\n",
    "checkpoints[0].restore(tf.train.latest_checkpoint(ckp_dir_m1))\n",
    "checkpoints[1].restore(tf.train.latest_checkpoint(ckp_dir_m2))\n",
    "checkpoints[2].restore(tf.train.latest_checkpoint(ckp_dir_m3))\n",
    "checkpoints[3].restore(tf.train.latest_checkpoint(ckp_dir_m4))\n",
    "checkpoints[4].restore(tf.train.latest_checkpoint(ckp_dir_m5))\n",
    "\n",
    "### 이 코드로 했을 때 학습 바로 돌렸을 때와 같은 결과가 나왔음."
   ]
  },
  {
   "cell_type": "markdown",
   "metadata": {
    "id": "TZYGST44C5Ym"
   },
   "source": [
    "### **번역 시작**"
   ]
  },
  {
   "cell_type": "code",
   "execution_count": null,
   "metadata": {},
   "outputs": [],
   "source": [
    "# test dataset 파일 불러오기\n",
    "testdata = '/Users/ahjeong_park/Study/Attention-Ensemble-Translation/Test_Dataset/test_data.txt'\n",
    "start_row = 2\n",
    "\n",
    "f = open(testdata, 'r')\n",
    "lines = f.readlines()\n",
    "\n",
    "for sentence in lines:\n",
    "    translate(sentence, start_row)\n",
    "    start_row += 6\n",
    "    \n",
    "f.close()"
   ]
  },
  {
   "cell_type": "code",
   "execution_count": 34,
   "metadata": {
    "id": "76Goju9Rvch8"
   },
   "outputs": [
    {
     "name": "stdout",
     "output_type": "stream",
     "text": [
      "sentence: <start> esta es mi vida . <end>\n",
      "p1 :  23 tf.Tensor(9.15811, shape=(), dtype=float32)\n",
      "p2 :  23 tf.Tensor(9.15811, shape=(), dtype=float32)\n",
      "p3 :  23 tf.Tensor(9.15811, shape=(), dtype=float32)\n",
      "p4 :  23 tf.Tensor(9.15811, shape=(), dtype=float32)\n",
      "p5 :  23 tf.Tensor(9.15811, shape=(), dtype=float32)\n",
      "voting :  23 tf.Tensor(9.15811, shape=(), dtype=float32)\n",
      "p1 :  11 tf.Tensor(10.332444, shape=(), dtype=float32)\n",
      "p2 :  11 tf.Tensor(10.332444, shape=(), dtype=float32)\n",
      "p3 :  11 tf.Tensor(10.332444, shape=(), dtype=float32)\n",
      "p4 :  11 tf.Tensor(10.332444, shape=(), dtype=float32)\n",
      "p5 :  11 tf.Tensor(10.332444, shape=(), dtype=float32)\n",
      "voting :  11 tf.Tensor(10.332444, shape=(), dtype=float32)\n",
      "p1 :  25 tf.Tensor(11.812712, shape=(), dtype=float32)\n",
      "p2 :  25 tf.Tensor(11.812712, shape=(), dtype=float32)\n",
      "p3 :  25 tf.Tensor(11.812712, shape=(), dtype=float32)\n",
      "p4 :  25 tf.Tensor(11.812712, shape=(), dtype=float32)\n",
      "p5 :  25 tf.Tensor(11.812712, shape=(), dtype=float32)\n",
      "voting :  25 tf.Tensor(11.812712, shape=(), dtype=float32)\n",
      "p1 :  188 tf.Tensor(9.299557, shape=(), dtype=float32)\n",
      "p2 :  188 tf.Tensor(9.299557, shape=(), dtype=float32)\n",
      "p3 :  188 tf.Tensor(9.299557, shape=(), dtype=float32)\n",
      "p4 :  188 tf.Tensor(9.299557, shape=(), dtype=float32)\n",
      "p5 :  188 tf.Tensor(9.299557, shape=(), dtype=float32)\n",
      "voting :  188 tf.Tensor(9.299557, shape=(), dtype=float32)\n",
      "p1 :  3 tf.Tensor(11.458094, shape=(), dtype=float32)\n",
      "p2 :  3 tf.Tensor(11.458094, shape=(), dtype=float32)\n",
      "p3 :  3 tf.Tensor(11.458094, shape=(), dtype=float32)\n",
      "p4 :  3 tf.Tensor(11.458094, shape=(), dtype=float32)\n",
      "p5 :  3 tf.Tensor(11.458094, shape=(), dtype=float32)\n",
      "voting :  3 tf.Tensor(11.458094, shape=(), dtype=float32)\n",
      "p1 :  2 tf.Tensor(13.657782, shape=(), dtype=float32)\n",
      "p2 :  2 tf.Tensor(13.657782, shape=(), dtype=float32)\n",
      "p3 :  2 tf.Tensor(13.657782, shape=(), dtype=float32)\n",
      "p4 :  2 tf.Tensor(13.657782, shape=(), dtype=float32)\n",
      "p5 :  2 tf.Tensor(13.657782, shape=(), dtype=float32)\n",
      "voting :  2 tf.Tensor(13.657782, shape=(), dtype=float32)\n",
      "Input: <start> esta es mi vida . <end>\n",
      "Model 1 의 Predicted translation: this is my life . <end> \n",
      "Model 2 의 Predicted translation: this is my life . <end> \n",
      "Model 3 의 Predicted translation: this is my life . <end> \n",
      "Model 4 의 Predicted translation: this is my life . <end> \n",
      "Model 5 의 Predicted translation: this is my life . <end> \n",
      "SoftVoting 의 Predicted translation: this is my life . <end> \n"
     ]
    }
   ],
   "source": [
    "translate(u'esta es mi vida.')  # this is my life"
   ]
  },
  {
   "cell_type": "code",
   "execution_count": 35,
   "metadata": {
    "id": "dvrhSTomviTt"
   },
   "outputs": [
    {
     "name": "stdout",
     "output_type": "stream",
     "text": [
      "sentence: <start> ¿ todavia estan en casa ? <end>\n",
      "p1 :  34 tf.Tensor(9.244436, shape=(), dtype=float32)\n",
      "p2 :  34 tf.Tensor(9.244436, shape=(), dtype=float32)\n",
      "p3 :  34 tf.Tensor(9.244436, shape=(), dtype=float32)\n",
      "p4 :  34 tf.Tensor(9.244436, shape=(), dtype=float32)\n",
      "p5 :  34 tf.Tensor(9.244436, shape=(), dtype=float32)\n",
      "voting :  34 tf.Tensor(9.244436, shape=(), dtype=float32)\n",
      "p1 :  7 tf.Tensor(9.410929, shape=(), dtype=float32)\n",
      "p2 :  7 tf.Tensor(9.410929, shape=(), dtype=float32)\n",
      "p3 :  7 tf.Tensor(9.410929, shape=(), dtype=float32)\n",
      "p4 :  153 tf.Tensor(6.2122555, shape=(), dtype=float32)\n",
      "p5 :  7 tf.Tensor(9.410929, shape=(), dtype=float32)\n",
      "voting :  7 tf.Tensor(9.410929, shape=(), dtype=float32)\n",
      "p1 :  153 tf.Tensor(9.0085125, shape=(), dtype=float32)\n",
      "p2 :  153 tf.Tensor(9.0085125, shape=(), dtype=float32)\n",
      "p3 :  153 tf.Tensor(9.0085125, shape=(), dtype=float32)\n",
      "p4 :  153 tf.Tensor(9.0085125, shape=(), dtype=float32)\n",
      "p5 :  153 tf.Tensor(9.0085125, shape=(), dtype=float32)\n",
      "voting :  153 tf.Tensor(9.0085125, shape=(), dtype=float32)\n",
      "p1 :  114 tf.Tensor(9.352321, shape=(), dtype=float32)\n",
      "p2 :  114 tf.Tensor(9.352321, shape=(), dtype=float32)\n",
      "p3 :  114 tf.Tensor(9.352321, shape=(), dtype=float32)\n",
      "p4 :  114 tf.Tensor(9.352321, shape=(), dtype=float32)\n",
      "p5 :  43 tf.Tensor(8.121566, shape=(), dtype=float32)\n",
      "voting :  114 tf.Tensor(9.352321, shape=(), dtype=float32)\n",
      "p1 :  10 tf.Tensor(9.882909, shape=(), dtype=float32)\n",
      "p2 :  105 tf.Tensor(8.361737, shape=(), dtype=float32)\n",
      "p3 :  10 tf.Tensor(9.882909, shape=(), dtype=float32)\n",
      "p4 :  10 tf.Tensor(9.882909, shape=(), dtype=float32)\n",
      "p5 :  10 tf.Tensor(9.882909, shape=(), dtype=float32)\n",
      "voting :  10 tf.Tensor(9.882909, shape=(), dtype=float32)\n",
      "p1 :  2 tf.Tensor(12.408594, shape=(), dtype=float32)\n",
      "p2 :  2 tf.Tensor(12.408594, shape=(), dtype=float32)\n",
      "p3 :  2 tf.Tensor(12.408594, shape=(), dtype=float32)\n",
      "p4 :  2 tf.Tensor(12.408594, shape=(), dtype=float32)\n",
      "p5 :  2 tf.Tensor(12.408594, shape=(), dtype=float32)\n",
      "voting :  2 tf.Tensor(12.408594, shape=(), dtype=float32)\n",
      "Input: <start> ¿ todavia estan en casa ? <end>\n",
      "Model 1 의 Predicted translation: are you still home ? <end> \n",
      "Model 2 의 Predicted translation: are you still home now <end> \n",
      "Model 3 의 Predicted translation: are you still home ? <end> \n",
      "Model 4 의 Predicted translation: are still still home ? <end> \n",
      "Model 5 의 Predicted translation: are you still at ? <end> \n",
      "SoftVoting 의 Predicted translation: are you still home ? <end> \n"
     ]
    }
   ],
   "source": [
    "translate(u'¿todavia estan en casa?')  # Are you still at home?"
   ]
  },
  {
   "cell_type": "code",
   "execution_count": 36,
   "metadata": {
    "id": "OTXXZwkdvg_Y"
   },
   "outputs": [
    {
     "name": "stdout",
     "output_type": "stream",
     "text": [
      "sentence: <start> trata de averiguarlo . <end>\n",
      "p1 :  277 tf.Tensor(6.398351, shape=(), dtype=float32)\n",
      "p2 :  277 tf.Tensor(6.398351, shape=(), dtype=float32)\n",
      "p3 :  808 tf.Tensor(3.6087818, shape=(), dtype=float32)\n",
      "p4 :  277 tf.Tensor(6.398351, shape=(), dtype=float32)\n",
      "p5 :  277 tf.Tensor(6.398351, shape=(), dtype=float32)\n",
      "voting :  277 tf.Tensor(6.398351, shape=(), dtype=float32)\n",
      "p1 :  6 tf.Tensor(8.585134, shape=(), dtype=float32)\n",
      "p2 :  6 tf.Tensor(8.585134, shape=(), dtype=float32)\n",
      "p3 :  6 tf.Tensor(8.585134, shape=(), dtype=float32)\n",
      "p4 :  6 tf.Tensor(8.585134, shape=(), dtype=float32)\n",
      "p5 :  6 tf.Tensor(8.585134, shape=(), dtype=float32)\n",
      "voting :  6 tf.Tensor(8.585134, shape=(), dtype=float32)\n",
      "p1 :  864 tf.Tensor(5.989154, shape=(), dtype=float32)\n",
      "p2 :  234 tf.Tensor(5.270657, shape=(), dtype=float32)\n",
      "p3 :  14 tf.Tensor(4.350351, shape=(), dtype=float32)\n",
      "p4 :  449 tf.Tensor(5.5494027, shape=(), dtype=float32)\n",
      "p5 :  1458 tf.Tensor(2.1625793, shape=(), dtype=float32)\n",
      "voting :  864 tf.Tensor(5.989154, shape=(), dtype=float32)\n",
      "p1 :  14 tf.Tensor(10.07184, shape=(), dtype=float32)\n",
      "p2 :  14 tf.Tensor(10.07184, shape=(), dtype=float32)\n",
      "p3 :  14 tf.Tensor(10.07184, shape=(), dtype=float32)\n",
      "p4 :  14 tf.Tensor(10.07184, shape=(), dtype=float32)\n",
      "p5 :  69 tf.Tensor(8.637164, shape=(), dtype=float32)\n",
      "voting :  14 tf.Tensor(10.07184, shape=(), dtype=float32)\n",
      "p1 :  3 tf.Tensor(7.1352057, shape=(), dtype=float32)\n",
      "p2 :  3 tf.Tensor(7.1352057, shape=(), dtype=float32)\n",
      "p3 :  69 tf.Tensor(7.0231223, shape=(), dtype=float32)\n",
      "p4 :  69 tf.Tensor(7.0231223, shape=(), dtype=float32)\n",
      "p5 :  69 tf.Tensor(7.0231223, shape=(), dtype=float32)\n",
      "voting :  3 tf.Tensor(7.1352057, shape=(), dtype=float32)\n",
      "p1 :  2 tf.Tensor(13.603546, shape=(), dtype=float32)\n",
      "p2 :  2 tf.Tensor(13.603546, shape=(), dtype=float32)\n",
      "p3 :  2 tf.Tensor(13.603546, shape=(), dtype=float32)\n",
      "p4 :  2 tf.Tensor(13.603546, shape=(), dtype=float32)\n",
      "p5 :  2 tf.Tensor(13.603546, shape=(), dtype=float32)\n",
      "voting :  2 tf.Tensor(13.603546, shape=(), dtype=float32)\n",
      "Input: <start> trata de averiguarlo . <end>\n",
      "Model 1 의 Predicted translation: try to figure it . <end> \n",
      "Model 2 의 Predicted translation: try to stop it . <end> \n",
      "Model 3 의 Predicted translation: check to it it out <end> \n",
      "Model 4 의 Predicted translation: try to finish it out <end> \n",
      "Model 5 의 Predicted translation: try to persuade out out <end> \n",
      "SoftVoting 의 Predicted translation: try to figure it . <end> \n"
     ]
    }
   ],
   "source": [
    "# 잘못된 번역\n",
    "translate(u'trata de averiguarlo.')   # try to find out / try to figure out"
   ]
  },
  {
   "cell_type": "code",
   "execution_count": 37,
   "metadata": {
    "id": "pwmBqLU8cvE6"
   },
   "outputs": [
    {
     "name": "stdout",
     "output_type": "stream",
     "text": [
      "sentence: <start> te quiero <end>\n",
      "p1 :  4 tf.Tensor(11.035214, shape=(), dtype=float32)\n",
      "p2 :  4 tf.Tensor(11.035214, shape=(), dtype=float32)\n",
      "p3 :  4 tf.Tensor(11.035214, shape=(), dtype=float32)\n",
      "p4 :  4 tf.Tensor(11.035214, shape=(), dtype=float32)\n",
      "p5 :  4 tf.Tensor(11.035214, shape=(), dtype=float32)\n",
      "voting :  4 tf.Tensor(11.035214, shape=(), dtype=float32)\n",
      "p1 :  38 tf.Tensor(9.629839, shape=(), dtype=float32)\n",
      "p2 :  146 tf.Tensor(9.50472, shape=(), dtype=float32)\n",
      "p3 :  38 tf.Tensor(9.629839, shape=(), dtype=float32)\n",
      "p4 :  146 tf.Tensor(9.50472, shape=(), dtype=float32)\n",
      "p5 :  38 tf.Tensor(9.629839, shape=(), dtype=float32)\n",
      "voting :  38 tf.Tensor(9.629839, shape=(), dtype=float32)\n",
      "p1 :  7 tf.Tensor(9.28078, shape=(), dtype=float32)\n",
      "p2 :  7 tf.Tensor(9.28078, shape=(), dtype=float32)\n",
      "p3 :  7 tf.Tensor(9.28078, shape=(), dtype=float32)\n",
      "p4 :  7 tf.Tensor(9.28078, shape=(), dtype=float32)\n",
      "p5 :  7 tf.Tensor(9.28078, shape=(), dtype=float32)\n",
      "voting :  7 tf.Tensor(9.28078, shape=(), dtype=float32)\n",
      "p1 :  3 tf.Tensor(5.0195394, shape=(), dtype=float32)\n",
      "p2 :  6 tf.Tensor(4.275255, shape=(), dtype=float32)\n",
      "p3 :  26 tf.Tensor(2.4950862, shape=(), dtype=float32)\n",
      "p4 :  45 tf.Tensor(6.092326, shape=(), dtype=float32)\n",
      "p5 :  3 tf.Tensor(5.0195394, shape=(), dtype=float32)\n",
      "voting :  45 tf.Tensor(6.092326, shape=(), dtype=float32)\n",
      "p1 :  3 tf.Tensor(4.6377816, shape=(), dtype=float32)\n",
      "p2 :  7 tf.Tensor(7.0595045, shape=(), dtype=float32)\n",
      "p3 :  7 tf.Tensor(7.0595045, shape=(), dtype=float32)\n",
      "p4 :  7 tf.Tensor(7.0595045, shape=(), dtype=float32)\n",
      "p5 :  5 tf.Tensor(3.6105855, shape=(), dtype=float32)\n",
      "voting :  7 tf.Tensor(7.0595045, shape=(), dtype=float32)\n",
      "p1 :  3 tf.Tensor(5.36951, shape=(), dtype=float32)\n",
      "p2 :  38 tf.Tensor(4.471423, shape=(), dtype=float32)\n",
      "p3 :  26 tf.Tensor(2.110415, shape=(), dtype=float32)\n",
      "p4 :  45 tf.Tensor(5.5252624, shape=(), dtype=float32)\n",
      "p5 :  179 tf.Tensor(-1.8698604, shape=(), dtype=float32)\n",
      "voting :  45 tf.Tensor(5.5252624, shape=(), dtype=float32)\n",
      "p1 :  3 tf.Tensor(4.727846, shape=(), dtype=float32)\n",
      "p2 :  7 tf.Tensor(7.078963, shape=(), dtype=float32)\n",
      "p3 :  7 tf.Tensor(7.078963, shape=(), dtype=float32)\n",
      "p4 :  7 tf.Tensor(7.078963, shape=(), dtype=float32)\n",
      "p5 :  3 tf.Tensor(4.727846, shape=(), dtype=float32)\n",
      "voting :  7 tf.Tensor(7.078963, shape=(), dtype=float32)\n",
      "p1 :  3 tf.Tensor(5.3666563, shape=(), dtype=float32)\n",
      "p2 :  38 tf.Tensor(4.539501, shape=(), dtype=float32)\n",
      "p3 :  26 tf.Tensor(2.1377523, shape=(), dtype=float32)\n",
      "p4 :  45 tf.Tensor(5.5936966, shape=(), dtype=float32)\n",
      "p5 :  81 tf.Tensor(1.8555689, shape=(), dtype=float32)\n",
      "voting :  45 tf.Tensor(5.5936966, shape=(), dtype=float32)\n",
      "p1 :  3 tf.Tensor(4.724135, shape=(), dtype=float32)\n",
      "p2 :  7 tf.Tensor(7.073921, shape=(), dtype=float32)\n",
      "p3 :  7 tf.Tensor(7.073921, shape=(), dtype=float32)\n",
      "p4 :  7 tf.Tensor(7.073921, shape=(), dtype=float32)\n",
      "p5 :  3 tf.Tensor(4.724135, shape=(), dtype=float32)\n",
      "voting :  7 tf.Tensor(7.073921, shape=(), dtype=float32)\n",
      "p1 :  3 tf.Tensor(5.3663836, shape=(), dtype=float32)\n",
      "p2 :  38 tf.Tensor(4.534731, shape=(), dtype=float32)\n",
      "p3 :  26 tf.Tensor(2.1345005, shape=(), dtype=float32)\n",
      "p4 :  45 tf.Tensor(5.587546, shape=(), dtype=float32)\n",
      "p5 :  3 tf.Tensor(5.3663836, shape=(), dtype=float32)\n",
      "voting :  45 tf.Tensor(5.587546, shape=(), dtype=float32)\n",
      "p1 :  3 tf.Tensor(4.7243977, shape=(), dtype=float32)\n",
      "p2 :  7 tf.Tensor(7.074084, shape=(), dtype=float32)\n",
      "p3 :  7 tf.Tensor(7.074084, shape=(), dtype=float32)\n",
      "p4 :  7 tf.Tensor(7.074084, shape=(), dtype=float32)\n",
      "p5 :  3 tf.Tensor(4.7243977, shape=(), dtype=float32)\n",
      "voting :  7 tf.Tensor(7.074084, shape=(), dtype=float32)\n",
      "p1 :  3 tf.Tensor(5.3663535, shape=(), dtype=float32)\n",
      "p2 :  38 tf.Tensor(4.534889, shape=(), dtype=float32)\n",
      "p3 :  26 tf.Tensor(2.1347744, shape=(), dtype=float32)\n",
      "p4 :  45 tf.Tensor(5.5879636, shape=(), dtype=float32)\n",
      "p5 :  3 tf.Tensor(5.3663535, shape=(), dtype=float32)\n",
      "voting :  45 tf.Tensor(5.5879636, shape=(), dtype=float32)\n",
      "p1 :  3 tf.Tensor(4.7243843, shape=(), dtype=float32)\n",
      "p2 :  7 tf.Tensor(7.0740767, shape=(), dtype=float32)\n",
      "p3 :  7 tf.Tensor(7.0740767, shape=(), dtype=float32)\n",
      "p4 :  7 tf.Tensor(7.0740767, shape=(), dtype=float32)\n",
      "p5 :  3 tf.Tensor(4.7243843, shape=(), dtype=float32)\n",
      "voting :  7 tf.Tensor(7.0740767, shape=(), dtype=float32)\n",
      "p1 :  3 tf.Tensor(5.3663573, shape=(), dtype=float32)\n",
      "p2 :  38 tf.Tensor(4.534878, shape=(), dtype=float32)\n",
      "p3 :  26 tf.Tensor(2.134756, shape=(), dtype=float32)\n",
      "p4 :  45 tf.Tensor(5.587934, shape=(), dtype=float32)\n",
      "p5 :  3 tf.Tensor(5.3663573, shape=(), dtype=float32)\n",
      "voting :  45 tf.Tensor(5.587934, shape=(), dtype=float32)\n",
      "p1 :  3 tf.Tensor(4.7243843, shape=(), dtype=float32)\n",
      "p2 :  7 tf.Tensor(7.074076, shape=(), dtype=float32)\n",
      "p3 :  7 tf.Tensor(7.074076, shape=(), dtype=float32)\n",
      "p4 :  7 tf.Tensor(7.074076, shape=(), dtype=float32)\n",
      "p5 :  3 tf.Tensor(4.7243843, shape=(), dtype=float32)\n",
      "voting :  7 tf.Tensor(7.074076, shape=(), dtype=float32)\n",
      "p1 :  3 tf.Tensor(5.366357, shape=(), dtype=float32)\n",
      "p2 :  38 tf.Tensor(4.5348797, shape=(), dtype=float32)\n",
      "p3 :  26 tf.Tensor(2.1347563, shape=(), dtype=float32)\n",
      "p4 :  45 tf.Tensor(5.5879354, shape=(), dtype=float32)\n",
      "p5 :  3 tf.Tensor(5.366357, shape=(), dtype=float32)\n",
      "voting :  45 tf.Tensor(5.5879354, shape=(), dtype=float32)\n",
      "p1 :  3 tf.Tensor(4.7243853, shape=(), dtype=float32)\n",
      "p2 :  7 tf.Tensor(7.0740776, shape=(), dtype=float32)\n",
      "p3 :  7 tf.Tensor(7.0740776, shape=(), dtype=float32)\n",
      "p4 :  7 tf.Tensor(7.0740776, shape=(), dtype=float32)\n",
      "p5 :  3 tf.Tensor(4.7243853, shape=(), dtype=float32)\n",
      "voting :  7 tf.Tensor(7.0740776, shape=(), dtype=float32)\n",
      "p1 :  3 tf.Tensor(5.366357, shape=(), dtype=float32)\n",
      "p2 :  38 tf.Tensor(4.53488, shape=(), dtype=float32)\n",
      "p3 :  26 tf.Tensor(2.1347566, shape=(), dtype=float32)\n",
      "p4 :  45 tf.Tensor(5.5879354, shape=(), dtype=float32)\n",
      "p5 :  3 tf.Tensor(5.366357, shape=(), dtype=float32)\n",
      "voting :  45 tf.Tensor(5.5879354, shape=(), dtype=float32)\n",
      "p1 :  3 tf.Tensor(4.724385, shape=(), dtype=float32)\n",
      "p2 :  7 tf.Tensor(7.0740776, shape=(), dtype=float32)\n",
      "p3 :  7 tf.Tensor(7.0740776, shape=(), dtype=float32)\n",
      "p4 :  7 tf.Tensor(7.0740776, shape=(), dtype=float32)\n",
      "p5 :  3 tf.Tensor(4.724385, shape=(), dtype=float32)\n",
      "voting :  7 tf.Tensor(7.0740776, shape=(), dtype=float32)\n",
      "p1 :  3 tf.Tensor(5.3663564, shape=(), dtype=float32)\n",
      "p2 :  38 tf.Tensor(4.534878, shape=(), dtype=float32)\n",
      "p3 :  26 tf.Tensor(2.1347566, shape=(), dtype=float32)\n",
      "p4 :  45 tf.Tensor(5.587934, shape=(), dtype=float32)\n",
      "p5 :  3 tf.Tensor(5.3663564, shape=(), dtype=float32)\n",
      "voting :  45 tf.Tensor(5.587934, shape=(), dtype=float32)\n",
      "p1 :  3 tf.Tensor(4.7243843, shape=(), dtype=float32)\n",
      "p2 :  7 tf.Tensor(7.0740767, shape=(), dtype=float32)\n",
      "p3 :  7 tf.Tensor(7.0740767, shape=(), dtype=float32)\n",
      "p4 :  7 tf.Tensor(7.0740767, shape=(), dtype=float32)\n",
      "p5 :  3 tf.Tensor(4.7243843, shape=(), dtype=float32)\n",
      "voting :  7 tf.Tensor(7.0740767, shape=(), dtype=float32)\n",
      "p1 :  3 tf.Tensor(5.366357, shape=(), dtype=float32)\n",
      "p2 :  38 tf.Tensor(4.5348787, shape=(), dtype=float32)\n",
      "p3 :  26 tf.Tensor(2.1347566, shape=(), dtype=float32)\n",
      "p4 :  45 tf.Tensor(5.5879354, shape=(), dtype=float32)\n",
      "p5 :  3 tf.Tensor(5.366357, shape=(), dtype=float32)\n",
      "voting :  45 tf.Tensor(5.5879354, shape=(), dtype=float32)\n",
      "p1 :  3 tf.Tensor(4.724385, shape=(), dtype=float32)\n",
      "p2 :  7 tf.Tensor(7.0740767, shape=(), dtype=float32)\n",
      "p3 :  7 tf.Tensor(7.0740767, shape=(), dtype=float32)\n",
      "p4 :  7 tf.Tensor(7.0740767, shape=(), dtype=float32)\n",
      "p5 :  3 tf.Tensor(4.724385, shape=(), dtype=float32)\n",
      "voting :  7 tf.Tensor(7.0740767, shape=(), dtype=float32)\n",
      "p1 :  3 tf.Tensor(5.366357, shape=(), dtype=float32)\n",
      "p2 :  38 tf.Tensor(4.5348787, shape=(), dtype=float32)\n",
      "p3 :  26 tf.Tensor(2.1347573, shape=(), dtype=float32)\n",
      "p4 :  45 tf.Tensor(5.5879354, shape=(), dtype=float32)\n",
      "p5 :  3 tf.Tensor(5.366357, shape=(), dtype=float32)\n",
      "voting :  45 tf.Tensor(5.5879354, shape=(), dtype=float32)\n",
      "p1 :  3 tf.Tensor(4.7243843, shape=(), dtype=float32)\n",
      "p2 :  7 tf.Tensor(7.074075, shape=(), dtype=float32)\n",
      "p3 :  7 tf.Tensor(7.074075, shape=(), dtype=float32)\n",
      "p4 :  7 tf.Tensor(7.074075, shape=(), dtype=float32)\n",
      "p5 :  3 tf.Tensor(4.7243843, shape=(), dtype=float32)\n",
      "voting :  7 tf.Tensor(7.074075, shape=(), dtype=float32)\n",
      "p1 :  3 tf.Tensor(5.366357, shape=(), dtype=float32)\n",
      "p2 :  38 tf.Tensor(4.5348787, shape=(), dtype=float32)\n",
      "p3 :  26 tf.Tensor(2.1347568, shape=(), dtype=float32)\n",
      "p4 :  45 tf.Tensor(5.5879354, shape=(), dtype=float32)\n",
      "p5 :  3 tf.Tensor(5.366357, shape=(), dtype=float32)\n",
      "voting :  45 tf.Tensor(5.5879354, shape=(), dtype=float32)\n",
      "p1 :  3 tf.Tensor(4.724385, shape=(), dtype=float32)\n",
      "p2 :  7 tf.Tensor(7.0740776, shape=(), dtype=float32)\n",
      "p3 :  7 tf.Tensor(7.0740776, shape=(), dtype=float32)\n",
      "p4 :  7 tf.Tensor(7.0740776, shape=(), dtype=float32)\n",
      "p5 :  3 tf.Tensor(4.724385, shape=(), dtype=float32)\n",
      "voting :  7 tf.Tensor(7.0740776, shape=(), dtype=float32)\n"
     ]
    },
    {
     "name": "stdout",
     "output_type": "stream",
     "text": [
      "p1 :  3 tf.Tensor(5.366357, shape=(), dtype=float32)\n",
      "p2 :  38 tf.Tensor(4.5348787, shape=(), dtype=float32)\n",
      "p3 :  26 tf.Tensor(2.1347573, shape=(), dtype=float32)\n",
      "p4 :  45 tf.Tensor(5.5879354, shape=(), dtype=float32)\n",
      "p5 :  3 tf.Tensor(5.366357, shape=(), dtype=float32)\n",
      "voting :  45 tf.Tensor(5.5879354, shape=(), dtype=float32)\n",
      "p1 :  3 tf.Tensor(4.7243843, shape=(), dtype=float32)\n",
      "p2 :  7 tf.Tensor(7.0740767, shape=(), dtype=float32)\n",
      "p3 :  7 tf.Tensor(7.0740767, shape=(), dtype=float32)\n",
      "p4 :  7 tf.Tensor(7.0740767, shape=(), dtype=float32)\n",
      "p5 :  3 tf.Tensor(4.7243843, shape=(), dtype=float32)\n",
      "voting :  7 tf.Tensor(7.0740767, shape=(), dtype=float32)\n",
      "p1 :  3 tf.Tensor(5.366357, shape=(), dtype=float32)\n",
      "p2 :  38 tf.Tensor(4.5348783, shape=(), dtype=float32)\n",
      "p3 :  26 tf.Tensor(2.134757, shape=(), dtype=float32)\n",
      "p4 :  45 tf.Tensor(5.5879354, shape=(), dtype=float32)\n",
      "p5 :  3 tf.Tensor(5.366357, shape=(), dtype=float32)\n",
      "voting :  45 tf.Tensor(5.5879354, shape=(), dtype=float32)\n",
      "p1 :  3 tf.Tensor(4.724385, shape=(), dtype=float32)\n",
      "p2 :  7 tf.Tensor(7.0740786, shape=(), dtype=float32)\n",
      "p3 :  7 tf.Tensor(7.0740786, shape=(), dtype=float32)\n",
      "p4 :  7 tf.Tensor(7.0740786, shape=(), dtype=float32)\n",
      "p5 :  3 tf.Tensor(4.724385, shape=(), dtype=float32)\n",
      "voting :  7 tf.Tensor(7.0740786, shape=(), dtype=float32)\n",
      "p1 :  3 tf.Tensor(5.366357, shape=(), dtype=float32)\n",
      "p2 :  38 tf.Tensor(4.5348787, shape=(), dtype=float32)\n",
      "p3 :  26 tf.Tensor(2.1347575, shape=(), dtype=float32)\n",
      "p4 :  45 tf.Tensor(5.5879354, shape=(), dtype=float32)\n",
      "p5 :  3 tf.Tensor(5.366357, shape=(), dtype=float32)\n",
      "voting :  45 tf.Tensor(5.5879354, shape=(), dtype=float32)\n",
      "p1 :  3 tf.Tensor(4.7243843, shape=(), dtype=float32)\n",
      "p2 :  7 tf.Tensor(7.074075, shape=(), dtype=float32)\n",
      "p3 :  7 tf.Tensor(7.074075, shape=(), dtype=float32)\n",
      "p4 :  7 tf.Tensor(7.074075, shape=(), dtype=float32)\n",
      "p5 :  3 tf.Tensor(4.7243843, shape=(), dtype=float32)\n",
      "voting :  7 tf.Tensor(7.074075, shape=(), dtype=float32)\n",
      "p1 :  3 tf.Tensor(5.3663564, shape=(), dtype=float32)\n",
      "p2 :  38 tf.Tensor(4.5348783, shape=(), dtype=float32)\n",
      "p3 :  26 tf.Tensor(2.1347566, shape=(), dtype=float32)\n",
      "p4 :  45 tf.Tensor(5.5879354, shape=(), dtype=float32)\n",
      "p5 :  3 tf.Tensor(5.3663564, shape=(), dtype=float32)\n",
      "voting :  45 tf.Tensor(5.5879354, shape=(), dtype=float32)\n",
      "p1 :  3 tf.Tensor(4.724385, shape=(), dtype=float32)\n",
      "p2 :  7 tf.Tensor(7.0740767, shape=(), dtype=float32)\n",
      "p3 :  7 tf.Tensor(7.0740767, shape=(), dtype=float32)\n",
      "p4 :  7 tf.Tensor(7.0740767, shape=(), dtype=float32)\n",
      "p5 :  3 tf.Tensor(4.724385, shape=(), dtype=float32)\n",
      "voting :  7 tf.Tensor(7.0740767, shape=(), dtype=float32)\n",
      "p1 :  3 tf.Tensor(5.366357, shape=(), dtype=float32)\n",
      "p2 :  38 tf.Tensor(4.53488, shape=(), dtype=float32)\n",
      "p3 :  26 tf.Tensor(2.1347566, shape=(), dtype=float32)\n",
      "p4 :  45 tf.Tensor(5.5879354, shape=(), dtype=float32)\n",
      "p5 :  3 tf.Tensor(5.366357, shape=(), dtype=float32)\n",
      "voting :  45 tf.Tensor(5.5879354, shape=(), dtype=float32)\n",
      "p1 :  3 tf.Tensor(4.7243843, shape=(), dtype=float32)\n",
      "p2 :  7 tf.Tensor(7.074076, shape=(), dtype=float32)\n",
      "p3 :  7 tf.Tensor(7.074076, shape=(), dtype=float32)\n",
      "p4 :  7 tf.Tensor(7.074076, shape=(), dtype=float32)\n",
      "p5 :  3 tf.Tensor(4.7243843, shape=(), dtype=float32)\n",
      "voting :  7 tf.Tensor(7.074076, shape=(), dtype=float32)\n",
      "p1 :  3 tf.Tensor(5.3663573, shape=(), dtype=float32)\n",
      "p2 :  38 tf.Tensor(4.53488, shape=(), dtype=float32)\n",
      "p3 :  26 tf.Tensor(2.1347566, shape=(), dtype=float32)\n",
      "p4 :  45 tf.Tensor(5.5879354, shape=(), dtype=float32)\n",
      "p5 :  3 tf.Tensor(5.3663573, shape=(), dtype=float32)\n",
      "voting :  45 tf.Tensor(5.5879354, shape=(), dtype=float32)\n",
      "p1 :  3 tf.Tensor(4.724385, shape=(), dtype=float32)\n",
      "p2 :  7 tf.Tensor(7.0740767, shape=(), dtype=float32)\n",
      "p3 :  7 tf.Tensor(7.0740767, shape=(), dtype=float32)\n",
      "p4 :  7 tf.Tensor(7.0740767, shape=(), dtype=float32)\n",
      "p5 :  3 tf.Tensor(4.724385, shape=(), dtype=float32)\n",
      "voting :  7 tf.Tensor(7.0740767, shape=(), dtype=float32)\n",
      "p1 :  3 tf.Tensor(5.3663564, shape=(), dtype=float32)\n",
      "p2 :  38 tf.Tensor(4.5348773, shape=(), dtype=float32)\n",
      "p3 :  26 tf.Tensor(2.1347575, shape=(), dtype=float32)\n",
      "p4 :  45 tf.Tensor(5.587935, shape=(), dtype=float32)\n",
      "p5 :  3 tf.Tensor(5.3663564, shape=(), dtype=float32)\n",
      "voting :  45 tf.Tensor(5.587935, shape=(), dtype=float32)\n",
      "p1 :  3 tf.Tensor(4.7243843, shape=(), dtype=float32)\n",
      "p2 :  7 tf.Tensor(7.074076, shape=(), dtype=float32)\n",
      "p3 :  7 tf.Tensor(7.074076, shape=(), dtype=float32)\n",
      "p4 :  7 tf.Tensor(7.074076, shape=(), dtype=float32)\n",
      "p5 :  3 tf.Tensor(4.7243843, shape=(), dtype=float32)\n",
      "voting :  7 tf.Tensor(7.074076, shape=(), dtype=float32)\n",
      "p1 :  3 tf.Tensor(5.366357, shape=(), dtype=float32)\n",
      "p2 :  38 tf.Tensor(4.5348783, shape=(), dtype=float32)\n",
      "p3 :  26 tf.Tensor(2.1347568, shape=(), dtype=float32)\n",
      "p4 :  45 tf.Tensor(5.5879354, shape=(), dtype=float32)\n",
      "p5 :  3 tf.Tensor(5.366357, shape=(), dtype=float32)\n",
      "voting :  45 tf.Tensor(5.5879354, shape=(), dtype=float32)\n",
      "p1 :  3 tf.Tensor(4.724385, shape=(), dtype=float32)\n",
      "p2 :  7 tf.Tensor(7.0740767, shape=(), dtype=float32)\n",
      "p3 :  7 tf.Tensor(7.0740767, shape=(), dtype=float32)\n",
      "p4 :  7 tf.Tensor(7.0740767, shape=(), dtype=float32)\n",
      "p5 :  3 tf.Tensor(4.724385, shape=(), dtype=float32)\n",
      "voting :  7 tf.Tensor(7.0740767, shape=(), dtype=float32)\n",
      "p1 :  3 tf.Tensor(5.366357, shape=(), dtype=float32)\n",
      "p2 :  38 tf.Tensor(4.5348787, shape=(), dtype=float32)\n",
      "p3 :  26 tf.Tensor(2.1347573, shape=(), dtype=float32)\n",
      "p4 :  45 tf.Tensor(5.587935, shape=(), dtype=float32)\n",
      "p5 :  3 tf.Tensor(5.366357, shape=(), dtype=float32)\n",
      "voting :  45 tf.Tensor(5.587935, shape=(), dtype=float32)\n",
      "p1 :  3 tf.Tensor(4.7243843, shape=(), dtype=float32)\n",
      "p2 :  7 tf.Tensor(7.0740767, shape=(), dtype=float32)\n",
      "p3 :  7 tf.Tensor(7.0740767, shape=(), dtype=float32)\n",
      "p4 :  7 tf.Tensor(7.0740767, shape=(), dtype=float32)\n",
      "p5 :  3 tf.Tensor(4.7243843, shape=(), dtype=float32)\n",
      "voting :  7 tf.Tensor(7.0740767, shape=(), dtype=float32)\n",
      "p1 :  3 tf.Tensor(5.366357, shape=(), dtype=float32)\n",
      "p2 :  38 tf.Tensor(4.53488, shape=(), dtype=float32)\n",
      "p3 :  26 tf.Tensor(2.1347566, shape=(), dtype=float32)\n",
      "p4 :  45 tf.Tensor(5.5879354, shape=(), dtype=float32)\n",
      "p5 :  3 tf.Tensor(5.366357, shape=(), dtype=float32)\n",
      "voting :  45 tf.Tensor(5.5879354, shape=(), dtype=float32)\n",
      "p1 :  3 tf.Tensor(4.724385, shape=(), dtype=float32)\n",
      "p2 :  7 tf.Tensor(7.0740786, shape=(), dtype=float32)\n",
      "p3 :  7 tf.Tensor(7.0740786, shape=(), dtype=float32)\n",
      "p4 :  7 tf.Tensor(7.0740786, shape=(), dtype=float32)\n",
      "p5 :  3 tf.Tensor(4.724385, shape=(), dtype=float32)\n",
      "voting :  7 tf.Tensor(7.0740786, shape=(), dtype=float32)\n",
      "p1 :  3 tf.Tensor(5.366357, shape=(), dtype=float32)\n",
      "p2 :  38 tf.Tensor(4.5348787, shape=(), dtype=float32)\n",
      "p3 :  26 tf.Tensor(2.134757, shape=(), dtype=float32)\n",
      "p4 :  45 tf.Tensor(5.5879354, shape=(), dtype=float32)\n",
      "p5 :  3 tf.Tensor(5.366357, shape=(), dtype=float32)\n",
      "voting :  45 tf.Tensor(5.5879354, shape=(), dtype=float32)\n",
      "p1 :  3 tf.Tensor(4.7243843, shape=(), dtype=float32)\n",
      "p2 :  7 tf.Tensor(7.0740767, shape=(), dtype=float32)\n",
      "p3 :  7 tf.Tensor(7.0740767, shape=(), dtype=float32)\n",
      "p4 :  7 tf.Tensor(7.0740767, shape=(), dtype=float32)\n",
      "p5 :  3 tf.Tensor(4.7243843, shape=(), dtype=float32)\n",
      "voting :  7 tf.Tensor(7.0740767, shape=(), dtype=float32)\n",
      "p1 :  3 tf.Tensor(5.366357, shape=(), dtype=float32)\n",
      "p2 :  38 tf.Tensor(4.5348787, shape=(), dtype=float32)\n",
      "p3 :  26 tf.Tensor(2.1347568, shape=(), dtype=float32)\n",
      "p4 :  45 tf.Tensor(5.587935, shape=(), dtype=float32)\n",
      "p5 :  3 tf.Tensor(5.366357, shape=(), dtype=float32)\n",
      "voting :  45 tf.Tensor(5.587935, shape=(), dtype=float32)\n",
      "p1 :  3 tf.Tensor(4.724385, shape=(), dtype=float32)\n",
      "p2 :  7 tf.Tensor(7.0740767, shape=(), dtype=float32)\n",
      "p3 :  7 tf.Tensor(7.0740767, shape=(), dtype=float32)\n",
      "p4 :  7 tf.Tensor(7.0740767, shape=(), dtype=float32)\n",
      "p5 :  3 tf.Tensor(4.724385, shape=(), dtype=float32)\n",
      "voting :  7 tf.Tensor(7.0740767, shape=(), dtype=float32)\n",
      "p1 :  3 tf.Tensor(5.366357, shape=(), dtype=float32)\n",
      "p2 :  38 tf.Tensor(4.5348787, shape=(), dtype=float32)\n",
      "p3 :  26 tf.Tensor(2.134757, shape=(), dtype=float32)\n",
      "p4 :  45 tf.Tensor(5.587935, shape=(), dtype=float32)\n",
      "p5 :  3 tf.Tensor(5.366357, shape=(), dtype=float32)\n",
      "voting :  45 tf.Tensor(5.587935, shape=(), dtype=float32)\n",
      "p1 :  3 tf.Tensor(4.7243843, shape=(), dtype=float32)\n",
      "p2 :  7 tf.Tensor(7.074075, shape=(), dtype=float32)\n",
      "p3 :  7 tf.Tensor(7.074075, shape=(), dtype=float32)\n",
      "p4 :  7 tf.Tensor(7.074075, shape=(), dtype=float32)\n",
      "p5 :  3 tf.Tensor(4.7243843, shape=(), dtype=float32)\n",
      "voting :  7 tf.Tensor(7.074075, shape=(), dtype=float32)\n",
      "Input: <start> te quiero <end>\n",
      "Model 1 의 Predicted translation: i want you . . . . . . . . . . . . . . . . . . . . . . . . . . . . . . . . . . . . . . . . . . . . . . . . . . \n",
      "Model 2 의 Predicted translation: i love you to you want you want you want you want you want you want you want you want you want you want you want you want you want you want you want you want you want you want you want you want you want you want you want you want you \n",
      "Model 3 의 Predicted translation: i want you for you for you for you for you for you for you for you for you for you for you for you for you for you for you for you for you for you for you for you for you for you for you for you for you for you \n",
      "Model 4 의 Predicted translation: i love you like you like you like you like you like you like you like you like you like you like you like you like you like you like you like you like you like you like you like you like you like you like you like you like you like you \n",
      "Model 5 의 Predicted translation: i want you . the put . one . . . . . . . . . . . . . . . . . . . . . . . . . . . . . . . . . . . . . . . . . . . . . \n",
      "SoftVoting 의 Predicted translation: i want you like you like you like you like you like you like you like you like you like you like you like you like you like you like you like you like you like you like you like you like you like you like you like you like you like you \n"
     ]
    }
   ],
   "source": [
    "translate(u'Te quiero')   # I love you"
   ]
  },
  {
   "cell_type": "markdown",
   "metadata": {},
   "source": [
    "### 긴 문장 번역 Test ###\n",
    "\n",
    "Le preguntó qué estaba pasando, pero ella no dijo nada.\n",
    "\n",
    "He asked her what was going on, but she didn't say anything.\n"
   ]
  },
  {
   "cell_type": "code",
   "execution_count": 38,
   "metadata": {},
   "outputs": [
    {
     "name": "stdout",
     "output_type": "stream",
     "text": [
      "sentence: <start> le pregunto que estaba pasando , pero ella no dijo nada . <end>\n",
      "p1 :  13 tf.Tensor(8.223819, shape=(), dtype=float32)\n",
      "p2 :  28 tf.Tensor(8.503663, shape=(), dtype=float32)\n",
      "p3 :  28 tf.Tensor(8.503663, shape=(), dtype=float32)\n",
      "p4 :  28 tf.Tensor(8.503663, shape=(), dtype=float32)\n",
      "p5 :  28 tf.Tensor(8.503663, shape=(), dtype=float32)\n",
      "voting :  28 tf.Tensor(8.503663, shape=(), dtype=float32)\n",
      "p1 :  181 tf.Tensor(10.826089, shape=(), dtype=float32)\n",
      "p2 :  181 tf.Tensor(10.826089, shape=(), dtype=float32)\n",
      "p3 :  181 tf.Tensor(10.826089, shape=(), dtype=float32)\n",
      "p4 :  181 tf.Tensor(10.826089, shape=(), dtype=float32)\n",
      "p5 :  181 tf.Tensor(10.826089, shape=(), dtype=float32)\n",
      "voting :  181 tf.Tensor(10.826089, shape=(), dtype=float32)\n",
      "p1 :  46 tf.Tensor(10.385808, shape=(), dtype=float32)\n",
      "p2 :  46 tf.Tensor(10.385808, shape=(), dtype=float32)\n",
      "p3 :  46 tf.Tensor(10.385808, shape=(), dtype=float32)\n",
      "p4 :  46 tf.Tensor(10.385808, shape=(), dtype=float32)\n",
      "p5 :  46 tf.Tensor(10.385808, shape=(), dtype=float32)\n",
      "voting :  46 tf.Tensor(10.385808, shape=(), dtype=float32)\n",
      "p1 :  30 tf.Tensor(7.002031, shape=(), dtype=float32)\n",
      "p2 :  6 tf.Tensor(6.7456636, shape=(), dtype=float32)\n",
      "p3 :  6 tf.Tensor(6.7456636, shape=(), dtype=float32)\n",
      "p4 :  30 tf.Tensor(7.002031, shape=(), dtype=float32)\n",
      "p5 :  28 tf.Tensor(6.060424, shape=(), dtype=float32)\n",
      "voting :  30 tf.Tensor(7.002031, shape=(), dtype=float32)\n",
      "p1 :  20 tf.Tensor(8.061579, shape=(), dtype=float32)\n",
      "p2 :  4 tf.Tensor(6.517705, shape=(), dtype=float32)\n",
      "p3 :  13 tf.Tensor(7.2690477, shape=(), dtype=float32)\n",
      "p4 :  20 tf.Tensor(8.061579, shape=(), dtype=float32)\n",
      "p5 :  28 tf.Tensor(6.9691925, shape=(), dtype=float32)\n",
      "voting :  20 tf.Tensor(8.061579, shape=(), dtype=float32)\n",
      "p1 :  241 tf.Tensor(4.7486444, shape=(), dtype=float32)\n",
      "p2 :  946 tf.Tensor(3.473391, shape=(), dtype=float32)\n",
      "p3 :  78 tf.Tensor(4.296013, shape=(), dtype=float32)\n",
      "p4 :  14 tf.Tensor(4.868679, shape=(), dtype=float32)\n",
      "p5 :  226 tf.Tensor(2.7494361, shape=(), dtype=float32)\n",
      "voting :  14 tf.Tensor(4.868679, shape=(), dtype=float32)\n",
      "p1 :  19 tf.Tensor(9.057236, shape=(), dtype=float32)\n",
      "p2 :  19 tf.Tensor(9.057236, shape=(), dtype=float32)\n",
      "p3 :  19 tf.Tensor(9.057236, shape=(), dtype=float32)\n",
      "p4 :  19 tf.Tensor(9.057236, shape=(), dtype=float32)\n",
      "p5 :  19 tf.Tensor(9.057236, shape=(), dtype=float32)\n",
      "voting :  19 tf.Tensor(9.057236, shape=(), dtype=float32)\n",
      "p1 :  95 tf.Tensor(10.520666, shape=(), dtype=float32)\n",
      "p2 :  95 tf.Tensor(10.520666, shape=(), dtype=float32)\n",
      "p3 :  95 tf.Tensor(10.520666, shape=(), dtype=float32)\n",
      "p4 :  95 tf.Tensor(10.520666, shape=(), dtype=float32)\n",
      "p5 :  95 tf.Tensor(10.520666, shape=(), dtype=float32)\n",
      "voting :  95 tf.Tensor(10.520666, shape=(), dtype=float32)\n",
      "p1 :  28 tf.Tensor(9.401093, shape=(), dtype=float32)\n",
      "p2 :  28 tf.Tensor(9.401093, shape=(), dtype=float32)\n",
      "p3 :  28 tf.Tensor(9.401093, shape=(), dtype=float32)\n",
      "p4 :  28 tf.Tensor(9.401093, shape=(), dtype=float32)\n",
      "p5 :  28 tf.Tensor(9.401093, shape=(), dtype=float32)\n",
      "voting :  28 tf.Tensor(9.401093, shape=(), dtype=float32)\n",
      "p1 :  66 tf.Tensor(11.441961, shape=(), dtype=float32)\n",
      "p2 :  66 tf.Tensor(11.441961, shape=(), dtype=float32)\n",
      "p3 :  66 tf.Tensor(11.441961, shape=(), dtype=float32)\n",
      "p4 :  66 tf.Tensor(11.441961, shape=(), dtype=float32)\n",
      "p5 :  66 tf.Tensor(11.441961, shape=(), dtype=float32)\n",
      "voting :  66 tf.Tensor(11.441961, shape=(), dtype=float32)\n",
      "p1 :  12 tf.Tensor(13.538795, shape=(), dtype=float32)\n",
      "p2 :  12 tf.Tensor(13.538795, shape=(), dtype=float32)\n",
      "p3 :  12 tf.Tensor(13.538795, shape=(), dtype=float32)\n",
      "p4 :  12 tf.Tensor(13.538795, shape=(), dtype=float32)\n",
      "p5 :  12 tf.Tensor(13.538795, shape=(), dtype=float32)\n",
      "voting :  12 tf.Tensor(13.538795, shape=(), dtype=float32)\n",
      "p1 :  136 tf.Tensor(7.2005258, shape=(), dtype=float32)\n",
      "p2 :  136 tf.Tensor(7.2005258, shape=(), dtype=float32)\n",
      "p3 :  136 tf.Tensor(7.2005258, shape=(), dtype=float32)\n",
      "p4 :  136 tf.Tensor(7.2005258, shape=(), dtype=float32)\n",
      "p5 :  136 tf.Tensor(7.2005258, shape=(), dtype=float32)\n",
      "voting :  136 tf.Tensor(7.2005258, shape=(), dtype=float32)\n",
      "p1 :  130 tf.Tensor(8.27434, shape=(), dtype=float32)\n",
      "p2 :  130 tf.Tensor(8.27434, shape=(), dtype=float32)\n",
      "p3 :  130 tf.Tensor(8.27434, shape=(), dtype=float32)\n",
      "p4 :  185 tf.Tensor(7.621746, shape=(), dtype=float32)\n",
      "p5 :  130 tf.Tensor(8.27434, shape=(), dtype=float32)\n",
      "voting :  130 tf.Tensor(8.27434, shape=(), dtype=float32)\n",
      "p1 :  3 tf.Tensor(8.362513, shape=(), dtype=float32)\n",
      "p2 :  19 tf.Tensor(7.716136, shape=(), dtype=float32)\n",
      "p3 :  3 tf.Tensor(8.362513, shape=(), dtype=float32)\n",
      "p4 :  3 tf.Tensor(8.362513, shape=(), dtype=float32)\n",
      "p5 :  3 tf.Tensor(8.362513, shape=(), dtype=float32)\n",
      "voting :  3 tf.Tensor(8.362513, shape=(), dtype=float32)\n",
      "p1 :  2 tf.Tensor(12.137728, shape=(), dtype=float32)\n",
      "p2 :  2 tf.Tensor(12.137728, shape=(), dtype=float32)\n",
      "p3 :  2 tf.Tensor(12.137728, shape=(), dtype=float32)\n",
      "p4 :  2 tf.Tensor(12.137728, shape=(), dtype=float32)\n",
      "p5 :  2 tf.Tensor(12.137728, shape=(), dtype=float32)\n",
      "voting :  2 tf.Tensor(12.137728, shape=(), dtype=float32)\n",
      "Input: <start> le pregunto que estaba pasando , pero ella no dijo nada . <end>\n",
      "Model 1 의 Predicted translation: he asked him what was wrong , but she didn t say anything . <end> \n",
      "Model 2 의 Predicted translation: she asked him to i happening , but she didn t say anything , <end> \n",
      "Model 3 의 Predicted translation: she asked him to he going , but she didn t say anything . <end> \n",
      "Model 4 의 Predicted translation: she asked him what was it , but she didn t say nothing . <end> \n",
      "Model 5 의 Predicted translation: she asked him she she doing , but she didn t say anything . <end> \n",
      "SoftVoting 의 Predicted translation: she asked him what was it , but she didn t say anything . <end> \n"
     ]
    }
   ],
   "source": [
    "long_test = u'Le preguntó qué estaba pasando, pero ella no dijo nada.'\n",
    "translate(long_test)"
   ]
  },
  {
   "cell_type": "markdown",
   "metadata": {},
   "source": [
    "### 더 긴 문장 번역 Test ###\n",
    "\n",
    "Si quieres sonar como un hablante nativo, debes estar dispuesto a practicar diciendo la misma frase una y otra vez de la misma manera en que un músico de banjo practica el mismo fraseo una y otra vez hasta que lo puedan tocar correctamente y en el tiempo esperado.\n",
    "\n",
    "If you want to sound like a native speaker, you must be willing toq practice saying the same sentence over and over in the same way that banjo players practice the same phrase over and over until they can play it correctly and at the desired tempo."
   ]
  },
  {
   "cell_type": "code",
   "execution_count": 39,
   "metadata": {},
   "outputs": [
    {
     "name": "stdout",
     "output_type": "stream",
     "text": [
      "sentence: <start> le pregunto que estaba pasando , pero ella no dijo nada . <end>\n",
      "p1 :  13 tf.Tensor(8.223819, shape=(), dtype=float32)\n",
      "p2 :  28 tf.Tensor(8.503663, shape=(), dtype=float32)\n",
      "p3 :  28 tf.Tensor(8.503663, shape=(), dtype=float32)\n",
      "p4 :  28 tf.Tensor(8.503663, shape=(), dtype=float32)\n",
      "p5 :  28 tf.Tensor(8.503663, shape=(), dtype=float32)\n",
      "voting :  28 tf.Tensor(8.503663, shape=(), dtype=float32)\n",
      "p1 :  181 tf.Tensor(10.826089, shape=(), dtype=float32)\n",
      "p2 :  181 tf.Tensor(10.826089, shape=(), dtype=float32)\n",
      "p3 :  181 tf.Tensor(10.826089, shape=(), dtype=float32)\n",
      "p4 :  181 tf.Tensor(10.826089, shape=(), dtype=float32)\n",
      "p5 :  181 tf.Tensor(10.826089, shape=(), dtype=float32)\n",
      "voting :  181 tf.Tensor(10.826089, shape=(), dtype=float32)\n",
      "p1 :  46 tf.Tensor(10.385808, shape=(), dtype=float32)\n",
      "p2 :  46 tf.Tensor(10.385808, shape=(), dtype=float32)\n",
      "p3 :  46 tf.Tensor(10.385808, shape=(), dtype=float32)\n",
      "p4 :  46 tf.Tensor(10.385808, shape=(), dtype=float32)\n",
      "p5 :  46 tf.Tensor(10.385808, shape=(), dtype=float32)\n",
      "voting :  46 tf.Tensor(10.385808, shape=(), dtype=float32)\n",
      "p1 :  30 tf.Tensor(7.002031, shape=(), dtype=float32)\n",
      "p2 :  6 tf.Tensor(6.7456636, shape=(), dtype=float32)\n",
      "p3 :  6 tf.Tensor(6.7456636, shape=(), dtype=float32)\n",
      "p4 :  30 tf.Tensor(7.002031, shape=(), dtype=float32)\n",
      "p5 :  28 tf.Tensor(6.060424, shape=(), dtype=float32)\n",
      "voting :  30 tf.Tensor(7.002031, shape=(), dtype=float32)\n",
      "p1 :  20 tf.Tensor(8.061579, shape=(), dtype=float32)\n",
      "p2 :  4 tf.Tensor(6.517705, shape=(), dtype=float32)\n",
      "p3 :  13 tf.Tensor(7.2690477, shape=(), dtype=float32)\n",
      "p4 :  20 tf.Tensor(8.061579, shape=(), dtype=float32)\n",
      "p5 :  28 tf.Tensor(6.9691925, shape=(), dtype=float32)\n",
      "voting :  20 tf.Tensor(8.061579, shape=(), dtype=float32)\n",
      "p1 :  241 tf.Tensor(4.7486444, shape=(), dtype=float32)\n",
      "p2 :  946 tf.Tensor(3.473391, shape=(), dtype=float32)\n",
      "p3 :  78 tf.Tensor(4.296013, shape=(), dtype=float32)\n",
      "p4 :  14 tf.Tensor(4.868679, shape=(), dtype=float32)\n",
      "p5 :  226 tf.Tensor(2.7494361, shape=(), dtype=float32)\n",
      "voting :  14 tf.Tensor(4.868679, shape=(), dtype=float32)\n",
      "p1 :  19 tf.Tensor(9.057236, shape=(), dtype=float32)\n",
      "p2 :  19 tf.Tensor(9.057236, shape=(), dtype=float32)\n",
      "p3 :  19 tf.Tensor(9.057236, shape=(), dtype=float32)\n",
      "p4 :  19 tf.Tensor(9.057236, shape=(), dtype=float32)\n",
      "p5 :  19 tf.Tensor(9.057236, shape=(), dtype=float32)\n",
      "voting :  19 tf.Tensor(9.057236, shape=(), dtype=float32)\n",
      "p1 :  95 tf.Tensor(10.520666, shape=(), dtype=float32)\n",
      "p2 :  95 tf.Tensor(10.520666, shape=(), dtype=float32)\n",
      "p3 :  95 tf.Tensor(10.520666, shape=(), dtype=float32)\n",
      "p4 :  95 tf.Tensor(10.520666, shape=(), dtype=float32)\n",
      "p5 :  95 tf.Tensor(10.520666, shape=(), dtype=float32)\n",
      "voting :  95 tf.Tensor(10.520666, shape=(), dtype=float32)\n",
      "p1 :  28 tf.Tensor(9.401093, shape=(), dtype=float32)\n",
      "p2 :  28 tf.Tensor(9.401093, shape=(), dtype=float32)\n",
      "p3 :  28 tf.Tensor(9.401093, shape=(), dtype=float32)\n",
      "p4 :  28 tf.Tensor(9.401093, shape=(), dtype=float32)\n",
      "p5 :  28 tf.Tensor(9.401093, shape=(), dtype=float32)\n",
      "voting :  28 tf.Tensor(9.401093, shape=(), dtype=float32)\n",
      "p1 :  66 tf.Tensor(11.441961, shape=(), dtype=float32)\n",
      "p2 :  66 tf.Tensor(11.441961, shape=(), dtype=float32)\n",
      "p3 :  66 tf.Tensor(11.441961, shape=(), dtype=float32)\n",
      "p4 :  66 tf.Tensor(11.441961, shape=(), dtype=float32)\n",
      "p5 :  66 tf.Tensor(11.441961, shape=(), dtype=float32)\n",
      "voting :  66 tf.Tensor(11.441961, shape=(), dtype=float32)\n",
      "p1 :  12 tf.Tensor(13.538795, shape=(), dtype=float32)\n",
      "p2 :  12 tf.Tensor(13.538795, shape=(), dtype=float32)\n",
      "p3 :  12 tf.Tensor(13.538795, shape=(), dtype=float32)\n",
      "p4 :  12 tf.Tensor(13.538795, shape=(), dtype=float32)\n",
      "p5 :  12 tf.Tensor(13.538795, shape=(), dtype=float32)\n",
      "voting :  12 tf.Tensor(13.538795, shape=(), dtype=float32)\n",
      "p1 :  136 tf.Tensor(7.2005258, shape=(), dtype=float32)\n",
      "p2 :  136 tf.Tensor(7.2005258, shape=(), dtype=float32)\n",
      "p3 :  136 tf.Tensor(7.2005258, shape=(), dtype=float32)\n",
      "p4 :  136 tf.Tensor(7.2005258, shape=(), dtype=float32)\n",
      "p5 :  136 tf.Tensor(7.2005258, shape=(), dtype=float32)\n",
      "voting :  136 tf.Tensor(7.2005258, shape=(), dtype=float32)\n",
      "p1 :  130 tf.Tensor(8.27434, shape=(), dtype=float32)\n",
      "p2 :  130 tf.Tensor(8.27434, shape=(), dtype=float32)\n",
      "p3 :  130 tf.Tensor(8.27434, shape=(), dtype=float32)\n",
      "p4 :  185 tf.Tensor(7.621746, shape=(), dtype=float32)\n",
      "p5 :  130 tf.Tensor(8.27434, shape=(), dtype=float32)\n",
      "voting :  130 tf.Tensor(8.27434, shape=(), dtype=float32)\n",
      "p1 :  3 tf.Tensor(8.362513, shape=(), dtype=float32)\n",
      "p2 :  19 tf.Tensor(7.716136, shape=(), dtype=float32)\n",
      "p3 :  3 tf.Tensor(8.362513, shape=(), dtype=float32)\n",
      "p4 :  3 tf.Tensor(8.362513, shape=(), dtype=float32)\n",
      "p5 :  3 tf.Tensor(8.362513, shape=(), dtype=float32)\n",
      "voting :  3 tf.Tensor(8.362513, shape=(), dtype=float32)\n",
      "p1 :  2 tf.Tensor(12.137728, shape=(), dtype=float32)\n",
      "p2 :  2 tf.Tensor(12.137728, shape=(), dtype=float32)\n",
      "p3 :  2 tf.Tensor(12.137728, shape=(), dtype=float32)\n",
      "p4 :  2 tf.Tensor(12.137728, shape=(), dtype=float32)\n",
      "p5 :  2 tf.Tensor(12.137728, shape=(), dtype=float32)\n",
      "voting :  2 tf.Tensor(12.137728, shape=(), dtype=float32)\n",
      "Input: <start> le pregunto que estaba pasando , pero ella no dijo nada . <end>\n",
      "Model 1 의 Predicted translation: he asked him what was wrong , but she didn t say anything . <end> \n",
      "Model 2 의 Predicted translation: she asked him to i happening , but she didn t say anything , <end> \n",
      "Model 3 의 Predicted translation: she asked him to he going , but she didn t say anything . <end> \n",
      "Model 4 의 Predicted translation: she asked him what was it , but she didn t say nothing . <end> \n",
      "Model 5 의 Predicted translation: she asked him she she doing , but she didn t say anything . <end> \n",
      "SoftVoting 의 Predicted translation: she asked him what was it , but she didn t say anything . <end> \n"
     ]
    }
   ],
   "source": [
    "long_test2 = u'Si quieres sonar como un hablante nativo, debes estar dispuesto a practicar diciendo la misma frase una y otra vez de la misma manera en que un músico de banjo practica el mismo fraseo una y otra vez hasta que lo puedan tocar correctamente y en el tiempo esperado.'\n",
    "\n",
    "translate(long_test)"
   ]
  }
 ],
 "metadata": {
  "accelerator": "GPU",
  "colab": {
   "collapsed_sections": [],
   "name": "re-nmt_Ensemble_HardVoting",
   "provenance": []
  },
  "kernelspec": {
   "display_name": "Python 3",
   "language": "python",
   "name": "python3"
  },
  "language_info": {
   "codemirror_mode": {
    "name": "ipython",
    "version": 3
   },
   "file_extension": ".py",
   "mimetype": "text/x-python",
   "name": "python",
   "nbconvert_exporter": "python",
   "pygments_lexer": "ipython3",
   "version": "3.6.12"
  }
 },
 "nbformat": 4,
 "nbformat_minor": 1
}
