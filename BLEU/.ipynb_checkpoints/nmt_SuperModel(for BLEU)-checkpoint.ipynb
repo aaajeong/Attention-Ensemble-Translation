{
 "cells": [
  {
   "cell_type": "markdown",
   "metadata": {
    "id": "5EoRVv9GoMn0"
   },
   "source": [
    "# **Attention Super Model**\n",
    "---"
   ]
  },
  {
   "cell_type": "markdown",
   "metadata": {
    "id": "AI5Vl6b8ohHm"
   },
   "source": [
    "### **구글 드라이브 Mount**"
   ]
  },
  {
   "cell_type": "code",
   "execution_count": 209,
   "metadata": {
    "id": "ktx3xvhwc2rL"
   },
   "outputs": [],
   "source": [
    "# from google.colab import drive\n",
    "# drive.mount('/content/drive')"
   ]
  },
  {
   "cell_type": "markdown",
   "metadata": {
    "id": "2V42Oa1cP8eh"
   },
   "source": [
    "### **Import Libraries**"
   ]
  },
  {
   "cell_type": "code",
   "execution_count": 210,
   "metadata": {
    "id": "6C5I92usDlWa"
   },
   "outputs": [],
   "source": [
    "import tensorflow as tf\n",
    "from keras.models import Model\n",
    "import matplotlib.pyplot as plt\n",
    "import matplotlib.ticker as ticker\n",
    "from sklearn.model_selection import train_test_split \n",
    "\n",
    "import unicodedata\n",
    "import re\n",
    "import numpy as np\n",
    "import os\n",
    "import io\n",
    "import time\n",
    "import random\n",
    "import openpyxl"
   ]
  },
  {
   "cell_type": "markdown",
   "metadata": {},
   "source": [
    "### GPU"
   ]
  },
  {
   "cell_type": "code",
   "execution_count": 211,
   "metadata": {},
   "outputs": [],
   "source": [
    "# import os\n",
    "# os.environ[\"CUDA_DEVICE_ORDER\"]=\"PCI_BUS_ID\" \n",
    "# os.environ[\"CUDA_VISIBLE_DEVICES\"]=\"0\"\n",
    "\n",
    "# from tensorflow.python.client import device_lib\n",
    "# print(device_lib.list_local_devices())"
   ]
  },
  {
   "cell_type": "markdown",
   "metadata": {
    "id": "9TwhXqshQD_d"
   },
   "source": [
    "### **데이터 로드**"
   ]
  },
  {
   "cell_type": "code",
   "execution_count": 212,
   "metadata": {
    "id": "2LGie5tSDrLl"
   },
   "outputs": [],
   "source": [
    "path_to_file = '/Users/ahjeong_park/Study/Attention-Ensemble-Translation/Super Model/spa_for_esb.txt'"
   ]
  },
  {
   "cell_type": "markdown",
   "metadata": {
    "id": "CpevBqz3QLgl"
   },
   "source": [
    "### **데이터(문장) 전처리**"
   ]
  },
  {
   "cell_type": "code",
   "execution_count": 213,
   "metadata": {
    "id": "NvfW9HTkENRY"
   },
   "outputs": [],
   "source": [
    "# 유니코드 파일을 아스키 코드 파일로 변환합니다.\n",
    "def unicode_to_ascii(s):\n",
    "  return ''.join(c for c in unicodedata.normalize('NFD', s)\n",
    "      if unicodedata.category(c) != 'Mn')\n",
    "\n",
    "\n",
    "def preprocess_sentence(w):\n",
    "  w = unicode_to_ascii(w.lower().strip())\n",
    "\n",
    "  # 단어와 단어 뒤에 오는 구두점(.)사이에 공백을 생성합니다.\n",
    "  # 예시: \"he is a boy.\" => \"he is a boy .\"\n",
    "  # 참고:- https://stackoverflow.com/questions/3645931/python-padding-punctuation-with-white-spaces-keeping-punctuation\n",
    "  w = re.sub(r\"([?.!,¿])\", r\" \\1 \", w)\n",
    "  w = re.sub(r'[\" \"]+', \" \", w)\n",
    "\n",
    "  # (a-z, A-Z, \".\", \"?\", \"!\", \",\")을 제외한 모든 것을 공백으로 대체합니다.\n",
    "  w = re.sub(r\"[^a-zA-Z?.!,¿]+\", \" \", w)\n",
    "\n",
    "  w = w.strip()\n",
    "\n",
    "  # 모델이 예측을 시작하거나 중단할 때를 알게 하기 위해서\n",
    "  # 문장에 start와 end 토큰을 추가합니다.\n",
    "  w = '<start> ' + w + ' <end>'\n",
    "  return w"
   ]
  },
  {
   "cell_type": "markdown",
   "metadata": {
    "id": "ZCvca5_mQZvK"
   },
   "source": [
    "### **Dataset 생성**\n",
    "1. 문장에 있는 억양을 제거합니다.\n",
    "2. 불필요한 문자를 제거하여 문장을 정리합니다.\n",
    "3. 다음과 같은 형식으로 문장의 쌍을 반환합니다: [영어, 스페인어]"
   ]
  },
  {
   "cell_type": "code",
   "execution_count": 214,
   "metadata": {
    "id": "3VXgr4_2EUgt"
   },
   "outputs": [],
   "source": [
    "def create_dataset(path, num_examples):\n",
    "  lines = io.open(path, encoding='UTF-8').read().strip().split('\\n')\n",
    "\n",
    "  word_pairs = [[preprocess_sentence(w) for w in l.split('\\t')]  for l in lines[:num_examples]]\n",
    "\n",
    "  return zip(*word_pairs)"
   ]
  },
  {
   "cell_type": "markdown",
   "metadata": {
    "id": "ImjigtL7QrJD"
   },
   "source": [
    "### **Language 가 들어오면 공백 단위로 토큰화**\n",
    "- fit_on_texts(): 문자 데이터를 입력받아서 리스트의 형태로 변환\n",
    "- texts_to_sequences: 텍스트 안의 단어들을 숫자 시퀀스로 출력\n",
    "- pad_sequcences(tensor, padding='post') : 서로 다른 개수의 단어로 이루어진 문장을 같은 길이로 만들어주기 위해 패딩을 사용\n",
    "  - padding = 'post' : [[ 0  0  0  5  3  2  4], [ 0  0  0  5  3  2  7],...,]\n",
    "  - padding = 'pre' : 뒤 부터 패딩이 채워짐\n",
    "  - 가장 긴 sequence 의 길이 만큼\n",
    "  "
   ]
  },
  {
   "cell_type": "code",
   "execution_count": 215,
   "metadata": {
    "id": "u9VUFvjLEdER"
   },
   "outputs": [],
   "source": [
    "def tokenize(lang):\n",
    "  lang_tokenizer = tf.keras.preprocessing.text.Tokenizer(\n",
    "      filters='')\n",
    "  lang_tokenizer.fit_on_texts(lang)\n",
    "\n",
    "  tensor = lang_tokenizer.texts_to_sequences(lang)\n",
    "\n",
    "  tensor = tf.keras.preprocessing.sequence.pad_sequences(tensor,\n",
    "                                                         padding='post')\n",
    "\n",
    "  return tensor, lang_tokenizer"
   ]
  },
  {
   "cell_type": "markdown",
   "metadata": {
    "id": "aXvBdPFoU1i-"
   },
   "source": [
    "### **전처리된 타겟 문장과 입력 문장 쌍을 생성**\n",
    "- input_tensor : input 문장의 패딩 처리된 숫자 시퀀스\n",
    "- inp_lang_tokenizer : input 문장을 공백 단위로 토큰화, 문자 -> 리스트 변환\n",
    "- target_tensor, targ_lang_tokenizer : 위와 비슷\n"
   ]
  },
  {
   "cell_type": "code",
   "execution_count": 216,
   "metadata": {
    "id": "Rc4Rbx8JEjQZ"
   },
   "outputs": [],
   "source": [
    "def load_dataset(path, num_examples=None):\n",
    "  \n",
    "  targ_lang, inp_lang = create_dataset(path, num_examples)\n",
    "\n",
    "  input_tensor, inp_lang_tokenizer = tokenize(inp_lang)\n",
    "  target_tensor, targ_lang_tokenizer = tokenize(targ_lang)\n",
    "\n",
    "  return input_tensor, target_tensor, inp_lang_tokenizer, targ_lang_tokenizer"
   ]
  },
  {
   "cell_type": "markdown",
   "metadata": {
    "id": "NykrAhCiX_nn"
   },
   "source": [
    "### **언어 데이터셋 크기 제한**\n",
    "- 언어 데이터셋을 아래의 크기로 제한하여 훈련과 검증을 수행\n",
    "- inp_lang, targ_lang : 인풋,타겟 문장의 문자 -> 리스트 변환 결과\n",
    "- max_length_targ, max_length_inp : 인풋, 타겟 문장의 '패딩된' 숫자 시퀀스 길이 -> 타겟 텐서와 입력 텐서의 최대 길이"
   ]
  },
  {
   "cell_type": "code",
   "execution_count": 217,
   "metadata": {
    "id": "ioibz-1bEkx-"
   },
   "outputs": [],
   "source": [
    "# num_examples = 30000\n",
    "# spa-eng data : 총 118964 line\n",
    "num_examples = 60000\n",
    "input_tensor, target_tensor, inp_lang, targ_lang = load_dataset(path_to_file, num_examples)\n",
    "\n",
    "max_length_targ, max_length_inp = target_tensor.shape[1], input_tensor.shape[1]"
   ]
  },
  {
   "cell_type": "markdown",
   "metadata": {
    "id": "mQRUdPQDMu8m"
   },
   "source": [
    "### **데이터셋 (테스트 & 검증) 분리**"
   ]
  },
  {
   "cell_type": "code",
   "execution_count": 218,
   "metadata": {
    "colab": {
     "base_uri": "https://localhost:8080/"
    },
    "id": "V7I7aQZrMuKM",
    "outputId": "37a64684-bb7d-4c61-da80-7ddc526232c4"
   },
   "outputs": [
    {
     "name": "stdout",
     "output_type": "stream",
     "text": [
      "48000 48000 12000 12000\n"
     ]
    }
   ],
   "source": [
    "# 훈련 집합과 검증 집합을 80대 20으로 분리합니다.\n",
    "input_tensor_train, input_tensor_val, target_tensor_train, target_tensor_val = train_test_split(input_tensor, target_tensor, test_size=0.2)\n",
    "\n",
    "# 훈련 집합과 검증 집합의 데이터 크기를 출력합니다.\n",
    "print(len(input_tensor_train), len(target_tensor_train), len(input_tensor_val), len(target_tensor_val))"
   ]
  },
  {
   "cell_type": "markdown",
   "metadata": {
    "id": "-XAy3EiWZz3b"
   },
   "source": [
    "### 인덱스 -> 해당 word 로\n",
    "\n",
    "```\n",
    "Input Language; index to word mapping\n",
    "1 ----> <start>\n",
    "93 ----> tomas\n",
    "27 ----> le\n",
    "1063 ----> escribio\n",
    "7 ----> a\n",
    "120 ----> maria\n",
    "3 ----> .\n",
    "2 ----> <end>\n",
    "```\n",
    "\n",
    "\n",
    "```\n",
    "Target Language; index to word mapping\n",
    "1 ----> <start>\n",
    "8 ----> tom\n",
    "695 ----> wrote\n",
    "6 ----> to\n",
    "31 ----> mary\n",
    "3 ----> .\n",
    "2 ----> <end>\n",
    "```\n",
    "\n"
   ]
  },
  {
   "cell_type": "code",
   "execution_count": 219,
   "metadata": {
    "id": "XwDUP11tErzK"
   },
   "outputs": [],
   "source": [
    "def convert(lang, tensor):\n",
    "  for t in tensor:\n",
    "    if t!=0:\n",
    "      print (\"%d ----> %s\" % (t, lang.index_word[t]))"
   ]
  },
  {
   "cell_type": "markdown",
   "metadata": {
    "id": "yrwIipPCbcBB"
   },
   "source": [
    "### **Buffer, Batch, epoch, embedding dimension, units 설정**\n",
    "- Tokenizer 의 word_index 속성 : 속성은 단어와 숫자의 키-값 쌍을 포함하는 딕셔너리를 반환\n",
    "- 따라서 vocab_inp_size, vocab_inp_size : 인풋, 타겟의 단어-숫자 딕셔너리 최대 길이 + 1 (?)\n",
    "- dataset.batch(BATCH_SIZE, drop_remainder = True) : 배치사이즈 만큼 분할 후 남은 데이터를 drop 할 것인지 여부\n",
    "- shuffle : 데이터셋 적절히 섞어준다."
   ]
  },
  {
   "cell_type": "code",
   "execution_count": 220,
   "metadata": {
    "id": "hU7tb2GYEvZX"
   },
   "outputs": [],
   "source": [
    "BUFFER_SIZE = len(input_tensor_train)\n",
    "BATCH_SIZE = 64\n",
    "steps_per_epoch = len(input_tensor_train)//BATCH_SIZE\n",
    "embedding_dim = 256\n",
    "units = 1024\n",
    "vocab_inp_size = len(inp_lang.word_index)+1\n",
    "vocab_tar_size = len(targ_lang.word_index)+1\n",
    "\n",
    "# 훈련 집합에서만 shuffle, batch\n",
    "dataset = tf.data.Dataset.from_tensor_slices((input_tensor_train, target_tensor_train)).shuffle(BUFFER_SIZE)\n",
    "dataset = dataset.batch(BATCH_SIZE, drop_remainder=True)"
   ]
  },
  {
   "cell_type": "code",
   "execution_count": 221,
   "metadata": {
    "colab": {
     "base_uri": "https://localhost:8080/"
    },
    "id": "-MitMbnt45EM",
    "outputId": "97b665ac-8559-459e-a7c1-455e4eb8d655"
   },
   "outputs": [
    {
     "data": {
      "text/plain": [
       "(TensorShape([64, 53]), TensorShape([64, 51]))"
      ]
     },
     "execution_count": 221,
     "metadata": {},
     "output_type": "execute_result"
    }
   ],
   "source": [
    "example_input_batch, example_target_batch = next(iter(dataset))\n",
    "example_input_batch.shape, example_target_batch.shape"
   ]
  },
  {
   "cell_type": "markdown",
   "metadata": {
    "id": "mXVK8Dv4cOi7"
   },
   "source": [
    "### **Encoder**\n",
    "\n",
    "\n",
    "1.   초기화 : vocab_size(단어의 크기), embedding_dim(임베딩 차원 수), enc_units(인코더의 히든 사이즈), batch_sz(배치 사이즈)\n",
    "  - embedding_dim : 단어 -> 임베딩 벡터로 하기 위한 차원 수\n",
    "2.  call : gru 에 들어가 output, state 출력\n",
    "3.  initialize_hidden_state : 맨 처음 gru에 들어가기 위한 더미 입력 값\n",
    "\n",
    "\n"
   ]
  },
  {
   "cell_type": "code",
   "execution_count": 222,
   "metadata": {
    "id": "AvYcCHoFE7UY"
   },
   "outputs": [],
   "source": [
    "class Encoder(tf.keras.Model):\n",
    "  def __init__(self, vocab_size, embedding_dim, enc_units, batch_sz):\n",
    "    super(Encoder, self).__init__()\n",
    "    self.batch_sz = batch_sz\n",
    "    self.enc_units = enc_units\n",
    "    self.embedding = tf.keras.layers.Embedding(vocab_size, embedding_dim)\n",
    "    self.gru = tf.keras.layers.GRU(self.enc_units,\n",
    "                                   return_sequences=True,\n",
    "                                   return_state=True,\n",
    "                                   recurrent_initializer='glorot_uniform')\n",
    "\n",
    "  def call(self, x, hidden):\n",
    "    x = self.embedding(x)\n",
    "    output, state = self.gru(x, initial_state = hidden)\n",
    "    return output, state\n",
    "\n",
    "  def initialize_hidden_state(self):\n",
    "    return tf.zeros((self.batch_sz, self.enc_units))"
   ]
  },
  {
   "cell_type": "markdown",
   "metadata": {
    "id": "iBEgB8_Lf1Wx"
   },
   "source": [
    "### **Encoder 객체 생성**"
   ]
  },
  {
   "cell_type": "code",
   "execution_count": 223,
   "metadata": {
    "id": "LsoTBEKRFgkQ"
   },
   "outputs": [],
   "source": [
    "encoder = Encoder(vocab_inp_size, embedding_dim, units, BATCH_SIZE)"
   ]
  },
  {
   "cell_type": "markdown",
   "metadata": {
    "id": "YXbulBGnesz7"
   },
   "source": [
    "### **Attention**\n"
   ]
  },
  {
   "cell_type": "code",
   "execution_count": 224,
   "metadata": {
    "id": "2T7avh_BFVZN"
   },
   "outputs": [],
   "source": [
    "class BahdanauAttention(tf.keras.layers.Layer):\n",
    "  def __init__(self, units):\n",
    "    super(BahdanauAttention, self).__init__()\n",
    "    self.W1 = tf.keras.layers.Dense(units)\n",
    "    self.W2 = tf.keras.layers.Dense(units)\n",
    "    self.V = tf.keras.layers.Dense(1)\n",
    "\n",
    "  def call(self, query, values):\n",
    "    # 쿼리 은닉 상태(query hidden state)는 (batch_size, hidden size)쌍으로 이루어져 있습니다.\n",
    "    # query_with_time_axis은 (batch_size, 1, hidden size)쌍으로 이루어져 있습니다.\n",
    "    # values는 (batch_size, max_len, hidden size)쌍으로 이루어져 있습니다.\n",
    "    # 스코어(score)계산을 위해 덧셈을 수행하고자 시간 축을 확장하여 아래의 과정을 수행합니다.\n",
    "    query_with_time_axis = tf.expand_dims(query, 1)\n",
    "\n",
    "    # score는 (batch_size, max_length, 1)쌍으로 이루어져 있습니다.\n",
    "    # score를 self.V에 적용하기 때문에 마지막 축에 1을 얻습니다.\n",
    "    # self.V에 적용하기 전에 텐서는 (batch_size, max_length, units)쌍으로 이루어져 있습니다.\n",
    "    score = self.V(tf.nn.tanh(\n",
    "        self.W1(query_with_time_axis) + self.W2(values)))\n",
    "\n",
    "    # attention_weights는 (batch_size, max_length, 1)쌍으로 이루어져 있습니다. \n",
    "    attention_weights = tf.nn.softmax(score, axis=1)\n",
    "\n",
    "    # 덧셈이후 컨텍스트 벡터(context_vector)는 (batch_size, hidden_size)쌍으로 이루어져 있습니다.\n",
    "    context_vector = attention_weights * values\n",
    "    context_vector = tf.reduce_sum(context_vector, axis=1)\n",
    "\n",
    "    return context_vector, attention_weights"
   ]
  },
  {
   "cell_type": "markdown",
   "metadata": {
    "id": "HOyJPT-ze23p"
   },
   "source": [
    "### **Decoder**\n",
    "\n",
    "\n",
    "1.   초기화 : vocab_size(단어의 크기), embedding_dim(임베딩 차원 수), enc_units(인코더의 히든 사이즈), batch_sz(배치 사이즈)\n",
    "2.   encoder 와의 차이점 : 마지막 fully_connected_layer(tf.keras.layers.Dense) 추가\n",
    "\n"
   ]
  },
  {
   "cell_type": "code",
   "execution_count": 225,
   "metadata": {
    "id": "weUzeqB1FaVk"
   },
   "outputs": [],
   "source": [
    "class Decoder(tf.keras.Model):\n",
    "  def __init__(self, vocab_size, embedding_dim, dec_units, batch_sz):\n",
    "    super(Decoder, self).__init__()\n",
    "    self.batch_sz = batch_sz\n",
    "    self.dec_units = dec_units\n",
    "    self.embedding = tf.keras.layers.Embedding(vocab_size, embedding_dim)\n",
    "    self.gru = tf.keras.layers.GRU(self.dec_units,\n",
    "                                   return_sequences=True,\n",
    "                                   return_state=True,\n",
    "                                   recurrent_initializer='glorot_uniform')\n",
    "    self.fc = tf.keras.layers.Dense(vocab_size)\n",
    "\n",
    "    # 어텐션을 사용합니다.\n",
    "    self.attention = BahdanauAttention(self.dec_units)\n",
    "\n",
    "  def call(self, x, hidden, enc_output):\n",
    "    # enc_output는 (batch_size, max_length, hidden_size)쌍으로 이루어져 있습니다.\n",
    "    context_vector, attention_weights = self.attention(hidden, enc_output)\n",
    "\n",
    "    # 임베딩층을 통과한 후 x는 (batch_size, 1, embedding_dim)쌍으로 이루어져 있습니다.\n",
    "    x = self.embedding(x)\n",
    "\n",
    "    # 컨텍스트 벡터와 임베딩 결과를 결합한 이후 x의 형태는 (batch_size, 1, embedding_dim + hidden_size)쌍으로 이루어져 있습니다.\n",
    "    x = tf.concat([tf.expand_dims(context_vector, 1), x], axis=-1)\n",
    "\n",
    "    # 위에서 결합된 벡터를 GRU에 전달합니다.\n",
    "    output, state = self.gru(x)\n",
    "\n",
    "    # output은 (batch_size * 1, hidden_size)쌍으로 이루어져 있습니다.\n",
    "    output = tf.reshape(output, (-1, output.shape[2]))\n",
    "\n",
    "    # output은 (batch_size, vocab)쌍으로 이루어져 있습니다.\n",
    "    x = self.fc(output)\n",
    "\n",
    "    return x, state, attention_weights\n"
   ]
  },
  {
   "cell_type": "markdown",
   "metadata": {
    "id": "dG7bJQ8sf61-"
   },
   "source": [
    "### **Decoder 객체 생성**"
   ]
  },
  {
   "cell_type": "code",
   "execution_count": 226,
   "metadata": {
    "id": "NoeGR2CsFk8E"
   },
   "outputs": [],
   "source": [
    "decoder = Decoder(vocab_tar_size, embedding_dim, units, BATCH_SIZE)"
   ]
  },
  {
   "cell_type": "markdown",
   "metadata": {
    "id": "GrfLbnT6gAXp"
   },
   "source": [
    "### **Loss Function & Optimizer**"
   ]
  },
  {
   "cell_type": "code",
   "execution_count": 227,
   "metadata": {
    "id": "QFs5xbUXFmPH"
   },
   "outputs": [],
   "source": [
    "optimizer = tf.keras.optimizers.Adam()\n",
    "loss_object = tf.keras.losses.SparseCategoricalCrossentropy(\n",
    "    from_logits=True, reduction='none')\n",
    "\n",
    "def loss_function(real, pred):\n",
    "  mask = tf.math.logical_not(tf.math.equal(real, 0))\n",
    "  loss_ = loss_object(real, pred)\n",
    "\n",
    "  mask = tf.cast(mask, dtype=loss_.dtype)\n",
    "  loss_ *= mask\n",
    "\n",
    "  return tf.reduce_mean(loss_)"
   ]
  },
  {
   "cell_type": "markdown",
   "metadata": {
    "id": "43_Spvj-gOsG"
   },
   "source": [
    "### **Chekcpoint**\n",
    "- 여기서 학습한 매개변수를 저장, optimizer/encoder/decoder"
   ]
  },
  {
   "cell_type": "code",
   "execution_count": 228,
   "metadata": {
    "id": "Z7GWRTtRFoGz"
   },
   "outputs": [],
   "source": [
    "checkpoint_dir = '/Users/ahjeong_park/Study/Attention-Ensemble-Translation/Super Model/super_checkpoint'\n",
    "checkpoint_prefix = os.path.join(checkpoint_dir, \"ckpt\")\n",
    "\n",
    "checkpoint_prefix = os.path.join(checkpoint_dir, \"ckpt\")\n",
    "checkpoint = tf.train.Checkpoint(optimizer=optimizer,\n",
    "                                 encoder=encoder,\n",
    "                                 decoder=decoder)"
   ]
  },
  {
   "cell_type": "markdown",
   "metadata": {
    "id": "vPqtJ9YsWqG6"
   },
   "source": [
    "### **Train_step**"
   ]
  },
  {
   "cell_type": "code",
   "execution_count": 229,
   "metadata": {
    "id": "W4M_cQT0kp5S"
   },
   "outputs": [],
   "source": [
    "# @tf.function\n",
    "def train_step(inp, targ, enc_hidden):\n",
    "  loss = 0\n",
    "\n",
    "  with tf.GradientTape() as tape:\n",
    "    enc_output, enc_hidden = encoder(inp, enc_hidden)\n",
    "\n",
    "    dec_hidden = enc_hidden\n",
    "\n",
    "    dec_input = tf.expand_dims([targ_lang.word_index['<start>']] * BATCH_SIZE, 1)\n",
    "\n",
    "    # 교사 강요(teacher forcing) - 다음 입력으로 타겟을 피딩(feeding)합니다.\n",
    "    for t in range(1, targ.shape[1]):\n",
    "      # enc_output를 디코더에 전달합니다.\n",
    "      predictions, dec_hidden = decoder(dec_input, dec_hidden, enc_output)\n",
    "      # print('predictions', predictions.shape)\n",
    "\n",
    "      loss += loss_function(targ[:, t], predictions)\n",
    "\n",
    "      # 교사 강요(teacher forcing)를 사용합니다. -> 훈련에서는 실제 값을 이용\n",
    "      dec_input = tf.expand_dims(targ[:, t], 1)\n",
    "\n",
    "  batch_loss = (loss / int(targ.shape[1]))\n",
    "  variables = encoder.trainable_variables + decoder.trainable_variables\n",
    "  gradients = tape.gradient(loss, variables)\n",
    "  optimizer.apply_gradients(zip(gradients, variables))\n",
    "  return batch_loss"
   ]
  },
  {
   "cell_type": "markdown",
   "metadata": {
    "id": "AfZWTXkHgZua"
   },
   "source": [
    "### **문장 번역(스페인 -> 영어)** \n",
    "\n",
    "*   tf.keras.preprocessing.sequence.pad_sequences([inputs], maxlen='', padding='post') : 일정한 길이(maxlen)로 맞춰준다. (패딩은 뒤에서)\n",
    "*   \n",
    "\n",
    "  ```\n",
    "  inp_lang.word_index :  {'<start>': 1, '<end>': 2, '.': 3, 'tom': 4, '?': 5...}\n",
    "  ```\n",
    "\n",
    "* tf.expand_dims: 차원을 늘려준다.\n",
    "\n",
    "\n"
   ]
  },
  {
   "cell_type": "code",
   "execution_count": 230,
   "metadata": {},
   "outputs": [],
   "source": [
    "# def evaluate(sentence):\n",
    "#   attention_plot = np.zeros((max_length_targ, max_length_inp))\n",
    "\n",
    "#   sentence = preprocess_sentence(sentence)\n",
    "\n",
    "#   inputs = [inp_lang.word_index[i] for i in sentence.split(' ')]\n",
    "#   inputs = tf.keras.preprocessing.sequence.pad_sequences([inputs],\n",
    "#                                                          maxlen=max_length_inp,\n",
    "#                                                          padding='post')\n",
    "#   inputs = tf.convert_to_tensor(inputs)\n",
    "\n",
    "#   result = ''\n",
    "\n",
    "#   hidden = [tf.zeros((1, units))]\n",
    "#   enc_out, enc_hidden = encoder(inputs, hidden)\n",
    "\n",
    "#   dec_hidden = enc_hidden\n",
    "#   dec_input = tf.expand_dims([targ_lang.word_index['<start>']], 0)\n",
    "\n",
    "#   for t in range(max_length_targ):\n",
    "#     predictions, dec_hidden, attention_weights = decoder(dec_input,\n",
    "#                                                          dec_hidden,\n",
    "#                                                          enc_out)\n",
    "\n",
    "#     # 나중에 어텐션 가중치를 시각화하기 위해 어텐션 가중치를 저장합니다.\n",
    "#     attention_weights = tf.reshape(attention_weights, (-1, ))\n",
    "#     attention_plot[t] = attention_weights.numpy()\n",
    "\n",
    "#     predicted_id = tf.argmax(predictions[0]).numpy()\n",
    "\n",
    "#     result += targ_lang.index_word[predicted_id] + ' '\n",
    "\n",
    "#     if targ_lang.index_word[predicted_id] == '<end>':\n",
    "#       return result, sentence, attention_plot\n",
    "\n",
    "#     # 예측된 ID를 모델에 다시 피드합니다.\n",
    "#     dec_input = tf.expand_dims([predicted_id], 0)\n",
    "\n",
    "#   return result, sentence, attention_plot"
   ]
  },
  {
   "cell_type": "code",
   "execution_count": 249,
   "metadata": {},
   "outputs": [],
   "source": [
    "def evaluate(sentence):\n",
    "  attention_plot = np.zeros((max_length_targ, max_length_inp))\n",
    "\n",
    "  sentence = preprocess_sentence(sentence)\n",
    "  no_word = 'no word'\n",
    "  inputs = []\n",
    "    \n",
    "  for i in sentence.split(' '):\n",
    "    if i in inp_lang.word_index:\n",
    "        inputs.append(inp_lang.word_index[i])\n",
    "    else:\n",
    "        print('no words!')\n",
    "        return no_word, sentence\n",
    "#   inputs = [inp_lang.word_index[i] if i in inp_lang.word_index else 3 for i in sentence.split(' ')]\n",
    "  print(inputs)\n",
    "  inputs = tf.keras.preprocessing.sequence.pad_sequences([inputs],\n",
    "                                                         maxlen=max_length_inp,\n",
    "                                                         padding='post')\n",
    "  inputs = tf.convert_to_tensor(inputs)\n",
    "\n",
    "  result = ''\n",
    "\n",
    "  hidden = [tf.zeros((1, units))]\n",
    "  enc_out, enc_hidden = encoder(inputs, hidden)\n",
    "\n",
    "  dec_hidden = enc_hidden\n",
    "  dec_input = tf.expand_dims([targ_lang.word_index['<start>']], 0)\n",
    "\n",
    "  for t in range(max_length_targ):\n",
    "    predictions, dec_hidden, attention_weights = decoder(dec_input,\n",
    "                                                         dec_hidden,\n",
    "                                                         enc_out)\n",
    "\n",
    "    predicted_id = tf.argmax(predictions[0]).numpy()\n",
    "\n",
    "    result += targ_lang.index_word[predicted_id] + ' '\n",
    "\n",
    "    if targ_lang.index_word[predicted_id] == '<end>':\n",
    "      return result, sentence\n",
    "    # 예측된 ID를 모델에 다시 피드합니다.\n",
    "    dec_input = tf.expand_dims([predicted_id], 0)\n",
    "\n",
    "  return result, sentence"
   ]
  },
  {
   "cell_type": "code",
   "execution_count": 250,
   "metadata": {},
   "outputs": [],
   "source": [
    "def translate(sentence, start_row):\n",
    "    result, sentence = evaluate(sentence)\n",
    "    \n",
    "    # 엑셀 파일 불러오기\n",
    "    wb = openpyxl.load_workbook('SuperModel_Result.xlsx')\n",
    "\n",
    "    # 엑셀 파일의 시트 활성화\n",
    "    sheet = wb['SuperModel(2)']\n",
    "\n",
    "    sheet.cell(row = start_row, column = 3).value = result\n",
    "\n",
    "    wb.save('SuperModel_Result.xlsx')\n"
   ]
  },
  {
   "cell_type": "markdown",
   "metadata": {
    "id": "R85_0yJYCxvw"
   },
   "source": [
    "### **Checkpoint 복원**"
   ]
  },
  {
   "cell_type": "code",
   "execution_count": 251,
   "metadata": {
    "id": "4lQepsNS0L24"
   },
   "outputs": [
    {
     "data": {
      "text/plain": [
       "<tensorflow.python.training.tracking.util.CheckpointLoadStatus at 0x7fc800484208>"
      ]
     },
     "execution_count": 251,
     "metadata": {},
     "output_type": "execute_result"
    }
   ],
   "source": [
    "# checkpoint_dir내에 있는 최근 체크포인트(checkpoint)를 복원합니다.\n",
    "checkpoint.restore(tf.train.latest_checkpoint(checkpoint_dir))"
   ]
  },
  {
   "cell_type": "markdown",
   "metadata": {
    "id": "TZYGST44C5Ym"
   },
   "source": [
    "### **번역 시작**"
   ]
  },
  {
   "cell_type": "code",
   "execution_count": 252,
   "metadata": {},
   "outputs": [
    {
     "name": "stdout",
     "output_type": "stream",
     "text": [
      "'Te dijeron lo que pasó, ¿no?'\n",
      "\n",
      "[1, 29, 1049, 21, 4, 211, 19, 12, 8, 11, 2]\n",
      "'Ellos no estaban allá.'\n",
      "\n",
      "[1, 77, 8, 287, 566, 3, 2]\n",
      "'No me gusta ninguno de los chicos.'\n",
      "\n",
      "[1, 8, 17, 63, 932, 5, 25, 832, 3, 2]\n",
      "'Jamás trabajé con él.'\n",
      "\n",
      "[1, 563, 2815, 26, 6, 3, 2]\n",
      "'Mi padre cultiva arroz.'\n",
      "\n",
      "[1, 23, 126, 9507, 1211, 3, 2]\n",
      "'Dime qué hiciste en Shounan.'\n",
      "\n",
      "[1, 838, 4, 582, 13, 13211, 3, 2]\n",
      "'¿Cuántas palabras deberías escribir?'\n",
      "\n",
      "[1, 12, 642, 675, 174, 559, 11, 2]\n",
      "'¿Cómo te introdujiste en mi casa?'\n",
      "\n",
      "[1, 12, 37, 29, 9257, 13, 23, 50, 11, 2]\n",
      "'Mi madre hornea pan todas las mañanas.'\n",
      "\n",
      "[1, 23, 171, 8754, 842, 252, 33, 1351, 3, 2]\n",
      "'Yo he disfrutado el leer esta novela.'\n",
      "\n",
      "[1, 38, 74, 10511, 6, 257, 18, 852, 3, 2]\n",
      "'Él estaba parado en la esquina.'\n",
      "\n",
      "[1, 6, 49, 990, 13, 10, 2047, 3, 2]\n",
      "'El testigo no parecía estar nervioso cuando testificó en el juicio.'\n",
      "\n",
      "[1, 6, 2529, 8, 466, 116, 1158, 52, 12912, 13, 6, 3146, 3, 2]\n",
      "'¿Dónde está el zoológico?'\n",
      "\n",
      "[1, 12, 70, 18, 6, 1927, 11, 2]\n",
      "'El nombre de mi hijo es Tom.'\n",
      "\n",
      "[1, 6, 229, 5, 23, 282, 14, 9, 3, 2]\n",
      "'Tenemos cosas más grandes de qué preocuparnos.'\n",
      "\n",
      "[1, 148, 167, 34, 735, 5, 4, 8759, 3, 2]\n",
      "'Juntémonos pasado mañana.'\n",
      "\n",
      "[1, 5216, 180, 81, 3, 2]\n",
      "'¿Qué estás escribiendo?'\n",
      "\n",
      "[1, 12, 4, 76, 1427, 11, 2]\n",
      "'¿Este es tu vino?'\n",
      "\n",
      "[1, 12, 39, 14, 35, 222, 11, 2]\n",
      "'Era casi imposible circular por esa calle.'\n",
      "\n",
      "no words!\n",
      "'Pensé que Tom querría ayudarme.'\n",
      "\n",
      "[1, 172, 4, 9, 1281, 1002, 3, 2]\n",
      "'¿Qué le quieres regalar a Tom?'\n",
      "\n",
      "[1, 12, 4, 27, 114, 4584, 7, 9, 11, 2]\n",
      "'No quiero permitir que eso suceda.'\n",
      "\n",
      "[1, 8, 48, 1926, 4, 41, 3825, 3, 2]\n",
      "'No queda rollo de papel.'\n",
      "\n",
      "[1, 8, 489, 4804, 5, 836, 3, 2]\n",
      "'¿Vas a venir a visitarme?'\n",
      "\n",
      "[1, 12, 178, 7, 346, 7, 4470, 11, 2]\n",
      "'Asumo que estás aquí para preguntarme por Tom.'\n",
      "\n",
      "[1, 2708, 4, 76, 51, 30, 5528, 20, 9, 3, 2]\n",
      "'Tom le apreció a Mary su bondad.'\n",
      "\n",
      "[1, 9, 27, 1690, 7, 31, 24, 7015, 3, 2]\n",
      "'¿Dónde está la otra?'\n",
      "\n",
      "[1, 12, 70, 18, 10, 165, 11, 2]\n",
      "'Los pobres no siempre son infelices.'\n",
      "\n",
      "[1, 25, 2713, 8, 101, 64, 9907, 3, 2]\n",
      "'La perseverancia, como usted sabe, es la llave al éxito.'\n",
      "\n",
      "[1, 10, 7546, 19, 37, 128, 118, 19, 14, 10, 472, 36, 694, 3, 2]\n",
      "'Tom aparece a veces en la televisión.'\n",
      "\n",
      "[1, 9, 11024, 7, 181, 13, 10, 354, 3, 2]\n",
      "'Me gusta el perro.'\n",
      "\n",
      "[1, 17, 63, 6, 146, 3, 2]\n",
      "'Es algo que tengo que hacer.'\n",
      "\n",
      "[1, 14, 55, 4, 46, 4, 53, 3, 2]\n",
      "'Tom no era muy bueno para leer entre líneas.'\n",
      "\n",
      "[1, 9, 8, 67, 42, 254, 30, 257, 337, 4997, 3, 2]\n",
      "'¿Podrías venir acá?'\n",
      "\n",
      "[1, 12, 462, 346, 459, 11, 2]\n",
      "'Esa racha de suerte no durará para siempre.'\n",
      "\n",
      "[1, 106, 5079, 5, 545, 8, 3606, 30, 101, 3, 2]\n",
      "'¿Caminaste todo el camino hasta acá?'\n",
      "\n",
      "no words!\n",
      "'Pensé que Tom había dejado a Mary hace un mes.'\n",
      "\n",
      "[1, 172, 4, 9, 107, 960, 7, 31, 99, 15, 370, 3, 2]\n",
      "'Dibuja una línea en el folio.'\n",
      "\n",
      "no words!\n",
      "'La fogata sigue encendida.'\n",
      "\n",
      "[1, 10, 8285, 663, 5083, 3, 2]\n",
      "'Es cruel burlarse de un ciego.'\n",
      "\n",
      "[1, 14, 2680, 15679, 5, 15, 2140, 3, 2]\n",
      "'¡Qué hermoso regalo!'\n",
      "\n",
      "[1, 4, 1192, 428, 82, 2]\n",
      "'Actualmente, Tom no tiene empleo.'\n",
      "\n",
      "[1, 3279, 19, 9, 8, 43, 1076, 3, 2]\n",
      "'La ciudad estaba envuelta en niebla.'\n",
      "\n",
      "[1, 10, 220, 49, 16154, 13, 2339, 3, 2]\n",
      "'¿Sabes cómo usar esto?'\n",
      "\n",
      "[1, 12, 197, 37, 516, 54, 11, 2]\n",
      "'Tom cenó hace más o menos una hora.'\n",
      "\n",
      "[1, 9, 3292, 99, 34, 140, 204, 22, 142, 3, 2]\n",
      "'¿Podrías darme tu nombre y tu número de teléfono?'\n",
      "\n",
      "[1, 12, 462, 1239, 35, 229, 32, 35, 431, 5, 264, 11, 2]\n",
      "'Los documentos secretos fueron triturados.'\n",
      "\n",
      "no words!\n",
      "'Tom está en una racha de suerte.'\n",
      "\n",
      "[1, 9, 18, 13, 22, 5079, 5, 545, 3, 2]\n",
      "'El enemigo más terrible es un amigo pasado.'\n",
      "\n",
      "[1, 6, 1389, 34, 1205, 14, 15, 194, 180, 3, 2]\n",
      "'Tom es un conductor muy precavido.'\n",
      "[1, 9, 14, 15, 1660, 42, 14355, 3, 2]\n"
     ]
    }
   ],
   "source": [
    "# test dataset 파일 불러오기\n",
    "testdata = '/Users/ahjeong_park/Study/Attention-Ensemble-Translation/Super Model/test_data.txt'\n",
    "start_row = 2\n",
    "\n",
    "f = open(testdata, 'r')\n",
    "lines = f.readlines()\n",
    "\n",
    "for sentence in lines:\n",
    "    print(sentence)\n",
    "    translate(sentence, start_row)\n",
    "    start_row += 6\n",
    "    \n",
    "f.close()"
   ]
  },
  {
   "cell_type": "code",
   "execution_count": null,
   "metadata": {},
   "outputs": [],
   "source": []
  }
 ],
 "metadata": {
  "accelerator": "GPU",
  "colab": {
   "collapsed_sections": [],
   "name": "re-nmt_Ensemble_HardVoting",
   "provenance": []
  },
  "kernelspec": {
   "display_name": "Python 3",
   "language": "python",
   "name": "python3"
  },
  "language_info": {
   "codemirror_mode": {
    "name": "ipython",
    "version": 3
   },
   "file_extension": ".py",
   "mimetype": "text/x-python",
   "name": "python",
   "nbconvert_exporter": "python",
   "pygments_lexer": "ipython3",
   "version": "3.6.12"
  }
 },
 "nbformat": 4,
 "nbformat_minor": 1
}
